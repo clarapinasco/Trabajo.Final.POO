{
 "cells": [
  {
   "cell_type": "code",
   "execution_count": 1,
   "metadata": {
    "pycharm": {
     "name": "#%%\n"
    }
   },
   "outputs": [],
   "source": [
    "%load_ext autoreload\n",
    "%autoreload 2"
   ]
  },
  {
   "cell_type": "markdown",
   "metadata": {
    "pycharm": {
     "name": "#%% md\n"
    }
   },
   "source": [
    "# **Trabajo Final Pinasco -Tags de HTML**"
   ]
  },
  {
   "cell_type": "markdown",
   "metadata": {
    "pycharm": {
     "name": "#%% md\n"
    }
   },
   "source": [
    "La empresa amplitude  trackea la información de un usuario cuando navega la web de Kavak, a traves de tags en los botones\n",
    " del html.Cada registro del datset es una sesión de un usuario que navega por la pagina web de Kavak."
   ]
  },
  {
   "cell_type": "markdown",
   "metadata": {
    "pycharm": {
     "name": "#%% md\n"
    }
   },
   "source": [
    "el dataset se encuentra en [link](https://www.dropbox.com/s/u39wjhai7fnnxnq/navegacion_web.pq?dl=0)"
   ]
  },
  {
   "cell_type": "markdown",
   "metadata": {
    "pycharm": {
     "name": "#%% md\n"
    }
   },
   "source": []
  },
  {
   "cell_type": "markdown",
   "metadata": {},
   "source": [
    "# Glosario\n"
   ]
  },
  {
   "cell_type": "markdown",
   "metadata": {},
   "source": [
    "\n",
    "**user_id**=id del usuario\n",
    "**device_id**= id del dispositivo\n",
    "**min_session_time** = fecha de la primera sesión\n",
    "**total_sessions_prev**= numero de sesion\n",
    "**total_previous_events**= cantidad de eventos en esta sesión\n",
    "**date_short**= fecha\n",
    "    **total_previous_vipphoto_selected**=filtro del auto(evento)\n",
    "    **total_previous_catalogfilter_selected**= filtro del auto (evento)\n",
    "    **total_previous_vip_viewed**=filtro del auto (evento)\n",
    "    **total_previous_cataloglist_viewed**=filtro del auto (evento)\n",
    "    **total_previous_year_selected**=filtro del auto (evento)\n",
    "    **-total_previous_make_selected**=filtro del auto (evento)\n",
    "    **total_previous_model_selected**=filtro del auto (evento)\n",
    "    **total_previous_version_selected**=filtro del auto (evento)\n",
    "    **total_previous_mileage_selected**=filtro del auto (evento)\n",
    "    **total_previous_location_selected**=filtro del auto (evento)\n",
    "    **total_previous_color_selected**=filtro del auto (evento)\n",
    "**all_total_sessions_prev** cantidad de sesiones acumulados\n",
    "**total_previous_sessions** cantidad de sesiones acumuladas\n",
    "**all_total_previous_sessions** cantidad de sesiones acumuladas\n",
    "**stock_id**= id del auto reservado\n",
    "**date**= fecha de reserva\n",
    "**user_with_reserve** = si reservo o no\n",
    "**reserved** = si reservo o no\n",
    "**avg_time_previous_sessions** = tiempo promedio en la pagina , medido en segundos\n",
    "**city**= cuidad de mexico\n",
    "**region**=  region de mexico\n",
    "**time_on_screen_prev**=  durecion en segundos de la sesion\n",
    "\n"
   ]
  },
  {
   "cell_type": "markdown",
   "metadata": {
    "pycharm": {
     "name": "#%% md\n"
    }
   },
   "source": [
    "La columna total events muestra el total de todos los eventos de la session, los cuales no se muestran todos en este dataset."
   ]
  },
  {
   "cell_type": "markdown",
   "metadata": {
    "pycharm": {
     "name": "#%% md\n"
    }
   },
   "source": [
    "De todas las columnas del dataset, la columna independiente es \"reserved\" o \"user_with_reserved\" y el resto de las columnas son variables independientes que se utlizarán para predecir  si el usuario  reserva un auto o no.\n",
    "El modelo a relizar es una regresión logistica ya que la variable a predecir es binaria y categórica"
   ]
  },
  {
   "cell_type": "code",
   "execution_count": 2,
   "metadata": {
    "pycharm": {
     "name": "#%%\n"
    }
   },
   "outputs": [],
   "source": [
    "import pandas as pd\n",
    "import numpy as np\n",
    "import seaborn as sns\n",
    "import matplotlib.pyplot as plt"
   ]
  },
  {
   "cell_type": "code",
   "execution_count": 3,
   "metadata": {
    "pycharm": {
     "name": "#%%\n"
    }
   },
   "outputs": [
    {
     "data": {
      "text/html": [
       "<div>\n",
       "<style scoped>\n",
       "    .dataframe tbody tr th:only-of-type {\n",
       "        vertical-align: middle;\n",
       "    }\n",
       "\n",
       "    .dataframe tbody tr th {\n",
       "        vertical-align: top;\n",
       "    }\n",
       "\n",
       "    .dataframe thead th {\n",
       "        text-align: right;\n",
       "    }\n",
       "</style>\n",
       "<table border=\"1\" class=\"dataframe\">\n",
       "  <thead>\n",
       "    <tr style=\"text-align: right;\">\n",
       "      <th></th>\n",
       "      <th>user_id</th>\n",
       "      <th>device_id</th>\n",
       "      <th>session_id</th>\n",
       "      <th>device_model</th>\n",
       "      <th>min_session_time</th>\n",
       "      <th>total_previous_sessions</th>\n",
       "      <th>total_previous_events</th>\n",
       "      <th>date_short</th>\n",
       "      <th>total_previous_vipphoto_selected</th>\n",
       "      <th>total_previous_vip360view_selected</th>\n",
       "      <th>...</th>\n",
       "      <th>region</th>\n",
       "      <th>time_on_screen_prev</th>\n",
       "      <th>min_total_sessions_prev</th>\n",
       "      <th>all_total_sessions_prev</th>\n",
       "      <th>total_sessions_prev</th>\n",
       "      <th>stock_id</th>\n",
       "      <th>date</th>\n",
       "      <th>user_with_reserve</th>\n",
       "      <th>reserved</th>\n",
       "      <th>avg_time_previous_sessions</th>\n",
       "    </tr>\n",
       "  </thead>\n",
       "  <tbody>\n",
       "    <tr>\n",
       "      <th>51760</th>\n",
       "      <td>9015447</td>\n",
       "      <td>yWOTGT6B-WzQU514Cqx1gL</td>\n",
       "      <td>1644253316189</td>\n",
       "      <td>Android</td>\n",
       "      <td>2022-02-07 17:01:56.223</td>\n",
       "      <td>1</td>\n",
       "      <td>1</td>\n",
       "      <td>2022-01-01 00:11:51.858</td>\n",
       "      <td>0</td>\n",
       "      <td>0</td>\n",
       "      <td>...</td>\n",
       "      <td>Mexico City</td>\n",
       "      <td>0.0</td>\n",
       "      <td>0</td>\n",
       "      <td>0</td>\n",
       "      <td>1</td>\n",
       "      <td>NaN</td>\n",
       "      <td>NaT</td>\n",
       "      <td>0.0</td>\n",
       "      <td>0.0</td>\n",
       "      <td>0.0</td>\n",
       "    </tr>\n",
       "    <tr>\n",
       "      <th>14885</th>\n",
       "      <td>8820027</td>\n",
       "      <td>LP42_fstvBPogWjh_1bkCg</td>\n",
       "      <td>1642913715699</td>\n",
       "      <td>Android</td>\n",
       "      <td>2022-01-23 04:55:17.124</td>\n",
       "      <td>1</td>\n",
       "      <td>9</td>\n",
       "      <td>2022-01-01 00:17:23.169</td>\n",
       "      <td>0</td>\n",
       "      <td>0</td>\n",
       "      <td>...</td>\n",
       "      <td>Mexico City</td>\n",
       "      <td>286.0</td>\n",
       "      <td>1</td>\n",
       "      <td>1</td>\n",
       "      <td>2</td>\n",
       "      <td>NaN</td>\n",
       "      <td>NaT</td>\n",
       "      <td>0.0</td>\n",
       "      <td>0.0</td>\n",
       "      <td>143.0</td>\n",
       "    </tr>\n",
       "    <tr>\n",
       "      <th>3992</th>\n",
       "      <td>5510567</td>\n",
       "      <td>AKERRpRODjl02b39AjfNb8</td>\n",
       "      <td>1642459615372</td>\n",
       "      <td>Android</td>\n",
       "      <td>2022-01-17 22:46:55.395</td>\n",
       "      <td>1</td>\n",
       "      <td>1</td>\n",
       "      <td>2022-01-01 00:22:28.720</td>\n",
       "      <td>0</td>\n",
       "      <td>0</td>\n",
       "      <td>...</td>\n",
       "      <td>Mexico City</td>\n",
       "      <td>0.0</td>\n",
       "      <td>0</td>\n",
       "      <td>0</td>\n",
       "      <td>1</td>\n",
       "      <td>NaN</td>\n",
       "      <td>NaT</td>\n",
       "      <td>0.0</td>\n",
       "      <td>0.0</td>\n",
       "      <td>0.0</td>\n",
       "    </tr>\n",
       "    <tr>\n",
       "      <th>131349</th>\n",
       "      <td>8665203</td>\n",
       "      <td>SxeKxvgE3mkec-e21Ej-bm</td>\n",
       "      <td>1647229337062</td>\n",
       "      <td>Android</td>\n",
       "      <td>2022-03-14 03:42:17.095</td>\n",
       "      <td>1</td>\n",
       "      <td>9</td>\n",
       "      <td>2022-01-01 00:27:00.994</td>\n",
       "      <td>0</td>\n",
       "      <td>0</td>\n",
       "      <td>...</td>\n",
       "      <td>Mexico City</td>\n",
       "      <td>379.0</td>\n",
       "      <td>1</td>\n",
       "      <td>1</td>\n",
       "      <td>2</td>\n",
       "      <td>NaN</td>\n",
       "      <td>NaT</td>\n",
       "      <td>0.0</td>\n",
       "      <td>0.0</td>\n",
       "      <td>189.5</td>\n",
       "    </tr>\n",
       "    <tr>\n",
       "      <th>25970</th>\n",
       "      <td>8409083</td>\n",
       "      <td>CttzrxBwYiDT93zwK93Xmt</td>\n",
       "      <td>1643398529809</td>\n",
       "      <td>Android</td>\n",
       "      <td>2022-01-28 19:35:32.308</td>\n",
       "      <td>1</td>\n",
       "      <td>1</td>\n",
       "      <td>2022-01-01 00:28:48.352</td>\n",
       "      <td>0</td>\n",
       "      <td>0</td>\n",
       "      <td>...</td>\n",
       "      <td>México</td>\n",
       "      <td>0.0</td>\n",
       "      <td>0</td>\n",
       "      <td>0</td>\n",
       "      <td>1</td>\n",
       "      <td>NaN</td>\n",
       "      <td>NaT</td>\n",
       "      <td>0.0</td>\n",
       "      <td>0.0</td>\n",
       "      <td>0.0</td>\n",
       "    </tr>\n",
       "  </tbody>\n",
       "</table>\n",
       "<p>5 rows × 32 columns</p>\n",
       "</div>"
      ],
      "text/plain": [
       "        user_id               device_id     session_id device_model  \\\n",
       "51760   9015447  yWOTGT6B-WzQU514Cqx1gL  1644253316189      Android   \n",
       "14885   8820027  LP42_fstvBPogWjh_1bkCg  1642913715699      Android   \n",
       "3992    5510567  AKERRpRODjl02b39AjfNb8  1642459615372      Android   \n",
       "131349  8665203  SxeKxvgE3mkec-e21Ej-bm  1647229337062      Android   \n",
       "25970   8409083  CttzrxBwYiDT93zwK93Xmt  1643398529809      Android   \n",
       "\n",
       "              min_session_time  total_previous_sessions  \\\n",
       "51760  2022-02-07 17:01:56.223                        1   \n",
       "14885  2022-01-23 04:55:17.124                        1   \n",
       "3992   2022-01-17 22:46:55.395                        1   \n",
       "131349 2022-03-14 03:42:17.095                        1   \n",
       "25970  2022-01-28 19:35:32.308                        1   \n",
       "\n",
       "        total_previous_events              date_short  \\\n",
       "51760                       1 2022-01-01 00:11:51.858   \n",
       "14885                       9 2022-01-01 00:17:23.169   \n",
       "3992                        1 2022-01-01 00:22:28.720   \n",
       "131349                      9 2022-01-01 00:27:00.994   \n",
       "25970                       1 2022-01-01 00:28:48.352   \n",
       "\n",
       "        total_previous_vipphoto_selected  total_previous_vip360view_selected  \\\n",
       "51760                                  0                                   0   \n",
       "14885                                  0                                   0   \n",
       "3992                                   0                                   0   \n",
       "131349                                 0                                   0   \n",
       "25970                                  0                                   0   \n",
       "\n",
       "        ...       region  time_on_screen_prev  min_total_sessions_prev  \\\n",
       "51760   ...  Mexico City                  0.0                        0   \n",
       "14885   ...  Mexico City                286.0                        1   \n",
       "3992    ...  Mexico City                  0.0                        0   \n",
       "131349  ...  Mexico City                379.0                        1   \n",
       "25970   ...       México                  0.0                        0   \n",
       "\n",
       "        all_total_sessions_prev  total_sessions_prev  stock_id  date  \\\n",
       "51760                         0                    1       NaN   NaT   \n",
       "14885                         1                    2       NaN   NaT   \n",
       "3992                          0                    1       NaN   NaT   \n",
       "131349                        1                    2       NaN   NaT   \n",
       "25970                         0                    1       NaN   NaT   \n",
       "\n",
       "        user_with_reserve  reserved  avg_time_previous_sessions  \n",
       "51760                 0.0       0.0                         0.0  \n",
       "14885                 0.0       0.0                       143.0  \n",
       "3992                  0.0       0.0                         0.0  \n",
       "131349                0.0       0.0                       189.5  \n",
       "25970                 0.0       0.0                         0.0  \n",
       "\n",
       "[5 rows x 32 columns]"
      ]
     },
     "execution_count": 3,
     "metadata": {},
     "output_type": "execute_result"
    }
   ],
   "source": [
    "web = pd.read_parquet('navegacion_web.pq', engine='pyarrow')\n",
    "web.head()"
   ]
  },
  {
   "cell_type": "markdown",
   "metadata": {},
   "source": []
  },
  {
   "cell_type": "markdown",
   "metadata": {
    "pycharm": {
     "name": "#%% md\n"
    }
   },
   "source": [
    "# Transformación de datos"
   ]
  },
  {
   "cell_type": "code",
   "execution_count": 4,
   "metadata": {
    "pycharm": {
     "name": "#%%\n"
    }
   },
   "outputs": [
    {
     "name": "stdout",
     "output_type": "stream",
     "text": [
      " El dataset muestra la actividad de los usuarios en la pagina web de KAVAK.Cuenta con  214160 sessiones en la web y 32 columnas que describen las acciones de dichos usuarios \n"
     ]
    }
   ],
   "source": [
    "print(f\" El dataset muestra la actividad de los usuarios en la pagina web de KAVAK.Cuenta con  {web.shape[0]} sessiones en la web y {web.shape[1]} columnas que describen las acciones de dichos usuarios \")"
   ]
  },
  {
   "cell_type": "code",
   "execution_count": 5,
   "metadata": {
    "pycharm": {
     "name": "#%%\n"
    }
   },
   "outputs": [
    {
     "data": {
      "text/plain": [
       "user_id                                           int64\n",
       "device_id                                        object\n",
       "session_id                                       object\n",
       "device_model                                   category\n",
       "min_session_time                         datetime64[ns]\n",
       "total_previous_sessions                           int64\n",
       "total_previous_events                             int64\n",
       "date_short                               datetime64[ns]\n",
       "total_previous_vipphoto_selected                  int64\n",
       "total_previous_vip360view_selected                int64\n",
       "total_previous_catalogfilter_selected             int64\n",
       "total_previous_vip_viewed                         int64\n",
       "total_previous_cataloglist_viewed                 int64\n",
       "total_previous_home_viewed                        int64\n",
       "total_previous_year_selected                      int64\n",
       "total_previous_make_selected                      int64\n",
       "total_previous_model_selected                     int64\n",
       "total_previous_version_selected                   int64\n",
       "total_previous_mileage_selected                   int64\n",
       "total_previous_location_selected                  int64\n",
       "total_previous_color_selected                     int64\n",
       "city                                           category\n",
       "region                                         category\n",
       "time_on_screen_prev                             float64\n",
       "min_total_sessions_prev                           int64\n",
       "all_total_sessions_prev                           int64\n",
       "total_sessions_prev                               int64\n",
       "stock_id                                        float64\n",
       "date                                     datetime64[ns]\n",
       "user_with_reserve                               float64\n",
       "reserved                                        float64\n",
       "avg_time_previous_sessions                      float64\n",
       "dtype: object"
      ]
     },
     "execution_count": 5,
     "metadata": {},
     "output_type": "execute_result"
    }
   ],
   "source": [
    "web.dtypes"
   ]
  },
  {
   "cell_type": "markdown",
   "metadata": {
    "pycharm": {
     "name": "#%% md\n"
    }
   },
   "source": [
    "Los id´s se muestran como  integers pero su tipo de dato sera cambiado a object para no confundir."
   ]
  },
  {
   "cell_type": "code",
   "execution_count": 6,
   "metadata": {
    "pycharm": {
     "name": "#%%\n"
    }
   },
   "outputs": [],
   "source": [
    "%%capture\n",
    "web.device_id.astype(object)\n",
    "web.user_id.astype(object)"
   ]
  },
  {
   "cell_type": "markdown",
   "metadata": {
    "pycharm": {
     "name": "#%% md\n"
    }
   },
   "source": [
    "## Datos Faltantes"
   ]
  },
  {
   "cell_type": "code",
   "execution_count": 7,
   "metadata": {
    "pycharm": {
     "name": "#%%\n"
    }
   },
   "outputs": [],
   "source": [
    "def percentageOfnull(df):\n",
    "    nan_count = df.isna().sum().sort_values(ascending=False)\n",
    "    nan_percentage = ((df.isna().sum()/df.isna().count())*100).round().sort_values(ascending=False)\n",
    "    train_test_dtype = df.dtypes\n",
    "    df_info = pd.concat([nan_count,nan_percentage,train_test_dtype],axis=1,keys=['Null Count','Null Percentage','DataTypes'])\n",
    "    return df_info[df_info['Null Count']>0]"
   ]
  },
  {
   "cell_type": "code",
   "execution_count": 8,
   "metadata": {
    "pycharm": {
     "name": "#%%\n"
    }
   },
   "outputs": [
    {
     "data": {
      "text/html": [
       "<div>\n",
       "<style scoped>\n",
       "    .dataframe tbody tr th:only-of-type {\n",
       "        vertical-align: middle;\n",
       "    }\n",
       "\n",
       "    .dataframe tbody tr th {\n",
       "        vertical-align: top;\n",
       "    }\n",
       "\n",
       "    .dataframe thead th {\n",
       "        text-align: right;\n",
       "    }\n",
       "</style>\n",
       "<table border=\"1\" class=\"dataframe\">\n",
       "  <thead>\n",
       "    <tr style=\"text-align: right;\">\n",
       "      <th></th>\n",
       "      <th>Null Count</th>\n",
       "      <th>Null Percentage</th>\n",
       "      <th>DataTypes</th>\n",
       "    </tr>\n",
       "  </thead>\n",
       "  <tbody>\n",
       "    <tr>\n",
       "      <th>date</th>\n",
       "      <td>195997</td>\n",
       "      <td>92.0</td>\n",
       "      <td>datetime64[ns]</td>\n",
       "    </tr>\n",
       "    <tr>\n",
       "      <th>stock_id</th>\n",
       "      <td>195997</td>\n",
       "      <td>92.0</td>\n",
       "      <td>float64</td>\n",
       "    </tr>\n",
       "    <tr>\n",
       "      <th>city</th>\n",
       "      <td>12816</td>\n",
       "      <td>6.0</td>\n",
       "      <td>category</td>\n",
       "    </tr>\n",
       "  </tbody>\n",
       "</table>\n",
       "</div>"
      ],
      "text/plain": [
       "          Null Count  Null Percentage       DataTypes\n",
       "date          195997             92.0  datetime64[ns]\n",
       "stock_id      195997             92.0         float64\n",
       "city           12816              6.0        category"
      ]
     },
     "execution_count": 8,
     "metadata": {},
     "output_type": "execute_result"
    }
   ],
   "source": [
    "percentageOfnull(web)"
   ]
  },
  {
   "cell_type": "markdown",
   "metadata": {
    "pycharm": {
     "name": "#%% md\n"
    }
   },
   "source": [
    "Hay solo 3 columnas con datos nulos.  Las columnas de Date y Stock id tienen la misma cantidad de nulos, ¿Tendran una relación?\n",
    "La columna de city tiene solo 6% de datos nulos por lo que decido reemplazarla por la moda"
   ]
  },
  {
   "cell_type": "markdown",
   "metadata": {
    "pycharm": {
     "name": "#%% md\n"
    }
   },
   "source": [
    "### City"
   ]
  },
  {
   "cell_type": "code",
   "execution_count": 9,
   "metadata": {
    "pycharm": {
     "name": "#%%\n"
    }
   },
   "outputs": [],
   "source": [
    "web['city'].fillna(web['city'].mode()[0], inplace = True)\n",
    "web['city'].replace(('None','nan'),web['city'].mode()[0],inplace=True)"
   ]
  },
  {
   "cell_type": "code",
   "execution_count": 10,
   "metadata": {
    "pycharm": {
     "name": "#%%\n"
    }
   },
   "outputs": [
    {
     "data": {
      "text/plain": [
       "Carmen Serdan                 0\n",
       "Texcaltitlan                  0\n",
       "Cotaxtla                      0\n",
       "Carmen Primera Seccion        0\n",
       "Toluquilla                    0\n",
       "                          ...  \n",
       "Toluca                     6019\n",
       "Monterrey                  7230\n",
       "Puebla City                8041\n",
       "Guadalajara               12950\n",
       "Mexico City               76732\n",
       "Name: city, Length: 1170, dtype: int64"
      ]
     },
     "execution_count": 10,
     "metadata": {},
     "output_type": "execute_result"
    }
   ],
   "source": [
    "web.city.value_counts(ascending=True)"
   ]
  },
  {
   "cell_type": "markdown",
   "metadata": {
    "pycharm": {
     "name": "#%% md\n"
    }
   },
   "source": [
    "existen cuidades en esta variable que no se encuentran en el dataframe."
   ]
  },
  {
   "cell_type": "code",
   "execution_count": 11,
   "metadata": {
    "pycharm": {
     "name": "#%%\n"
    }
   },
   "outputs": [
    {
     "data": {
      "text/plain": [
       "Huetamo de Nunez                    1\n",
       "Constitucion de la Republica        1\n",
       "Tres Valles                         1\n",
       "Merced Balbuena                     1\n",
       "Valle del Tepeyac                   1\n",
       "                                ...  \n",
       "Toluca                           6019\n",
       "Monterrey                        7230\n",
       "Puebla City                      8041\n",
       "Guadalajara                     12950\n",
       "Mexico City                     76732\n",
       "Name: city, Length: 1146, dtype: int64"
      ]
     },
     "execution_count": 11,
     "metadata": {},
     "output_type": "execute_result"
    }
   ],
   "source": [
    "web.city.astype(str).value_counts(ascending=True)"
   ]
  },
  {
   "cell_type": "markdown",
   "metadata": {
    "pycharm": {
     "name": "#%% md\n"
    }
   },
   "source": [
    "### Stock id y Date"
   ]
  },
  {
   "cell_type": "code",
   "execution_count": 12,
   "metadata": {
    "pycharm": {
     "name": "#%%\n"
    }
   },
   "outputs": [
    {
     "data": {
      "text/html": [
       "<div>\n",
       "<style scoped>\n",
       "    .dataframe tbody tr th:only-of-type {\n",
       "        vertical-align: middle;\n",
       "    }\n",
       "\n",
       "    .dataframe tbody tr th {\n",
       "        vertical-align: top;\n",
       "    }\n",
       "\n",
       "    .dataframe thead th {\n",
       "        text-align: right;\n",
       "    }\n",
       "</style>\n",
       "<table border=\"1\" class=\"dataframe\">\n",
       "  <thead>\n",
       "    <tr style=\"text-align: right;\">\n",
       "      <th></th>\n",
       "      <th>user_id</th>\n",
       "      <th>device_id</th>\n",
       "      <th>session_id</th>\n",
       "      <th>device_model</th>\n",
       "      <th>min_session_time</th>\n",
       "      <th>total_previous_sessions</th>\n",
       "      <th>total_previous_events</th>\n",
       "      <th>date_short</th>\n",
       "      <th>total_previous_vipphoto_selected</th>\n",
       "      <th>total_previous_vip360view_selected</th>\n",
       "      <th>...</th>\n",
       "      <th>region</th>\n",
       "      <th>time_on_screen_prev</th>\n",
       "      <th>min_total_sessions_prev</th>\n",
       "      <th>all_total_sessions_prev</th>\n",
       "      <th>total_sessions_prev</th>\n",
       "      <th>stock_id</th>\n",
       "      <th>date</th>\n",
       "      <th>user_with_reserve</th>\n",
       "      <th>reserved</th>\n",
       "      <th>avg_time_previous_sessions</th>\n",
       "    </tr>\n",
       "  </thead>\n",
       "  <tbody>\n",
       "  </tbody>\n",
       "</table>\n",
       "<p>0 rows × 32 columns</p>\n",
       "</div>"
      ],
      "text/plain": [
       "Empty DataFrame\n",
       "Columns: [user_id, device_id, session_id, device_model, min_session_time, total_previous_sessions, total_previous_events, date_short, total_previous_vipphoto_selected, total_previous_vip360view_selected, total_previous_catalogfilter_selected, total_previous_vip_viewed, total_previous_cataloglist_viewed, total_previous_home_viewed, total_previous_year_selected, total_previous_make_selected, total_previous_model_selected, total_previous_version_selected, total_previous_mileage_selected, total_previous_location_selected, total_previous_color_selected, city, region, time_on_screen_prev, min_total_sessions_prev, all_total_sessions_prev, total_sessions_prev, stock_id, date, user_with_reserve, reserved, avg_time_previous_sessions]\n",
       "Index: []\n",
       "\n",
       "[0 rows x 32 columns]"
      ]
     },
     "execution_count": 12,
     "metadata": {},
     "output_type": "execute_result"
    }
   ],
   "source": [
    "date_null=web.date.isna()\n",
    "stock_id_null= web.stock_id.isna()\n",
    "web[date_null != stock_id_null]"
   ]
  },
  {
   "cell_type": "code",
   "execution_count": 13,
   "metadata": {
    "pycharm": {
     "name": "#%%\n"
    }
   },
   "outputs": [
    {
     "data": {
      "text/plain": [
       "date        0\n",
       "stock_id    0\n",
       "dtype: int64"
      ]
     },
     "execution_count": 13,
     "metadata": {},
     "output_type": "execute_result"
    }
   ],
   "source": [
    "web.loc[web.reserved==1][['date','stock_id']].isnull().sum()"
   ]
  },
  {
   "cell_type": "markdown",
   "metadata": {
    "pycharm": {
     "name": "#%% md\n"
    }
   },
   "source": [
    "Los nulos de las columnas date y stock_id son los mismos y coiciden con todos los registros cuya reserva es 0.Por lo cual, podemos asumir que  date es la fecha de reserva y el stock id es el auto que el usuario reservó."
   ]
  },
  {
   "cell_type": "markdown",
   "metadata": {
    "pycharm": {
     "name": "#%% md\n"
    }
   },
   "source": [
    "analicemos su importancia"
   ]
  },
  {
   "cell_type": "code",
   "execution_count": 14,
   "metadata": {
    "pycharm": {
     "name": "#%%\n"
    }
   },
   "outputs": [
    {
     "data": {
      "text/html": [
       "<div>\n",
       "<style scoped>\n",
       "    .dataframe tbody tr th:only-of-type {\n",
       "        vertical-align: middle;\n",
       "    }\n",
       "\n",
       "    .dataframe tbody tr th {\n",
       "        vertical-align: top;\n",
       "    }\n",
       "\n",
       "    .dataframe thead th {\n",
       "        text-align: right;\n",
       "    }\n",
       "</style>\n",
       "<table border=\"1\" class=\"dataframe\">\n",
       "  <thead>\n",
       "    <tr style=\"text-align: right;\">\n",
       "      <th></th>\n",
       "      <th>reserved</th>\n",
       "      <th>stock_id</th>\n",
       "      <th>date</th>\n",
       "    </tr>\n",
       "  </thead>\n",
       "  <tbody>\n",
       "    <tr>\n",
       "      <th>18309</th>\n",
       "      <td>1.0</td>\n",
       "      <td>122184.0</td>\n",
       "      <td>2022-02-02</td>\n",
       "    </tr>\n",
       "    <tr>\n",
       "      <th>18327</th>\n",
       "      <td>1.0</td>\n",
       "      <td>122184.0</td>\n",
       "      <td>2022-02-02</td>\n",
       "    </tr>\n",
       "    <tr>\n",
       "      <th>18661</th>\n",
       "      <td>1.0</td>\n",
       "      <td>122184.0</td>\n",
       "      <td>2022-02-02</td>\n",
       "    </tr>\n",
       "    <tr>\n",
       "      <th>18509</th>\n",
       "      <td>1.0</td>\n",
       "      <td>122184.0</td>\n",
       "      <td>2022-02-02</td>\n",
       "    </tr>\n",
       "    <tr>\n",
       "      <th>18682</th>\n",
       "      <td>1.0</td>\n",
       "      <td>122184.0</td>\n",
       "      <td>2022-02-02</td>\n",
       "    </tr>\n",
       "    <tr>\n",
       "      <th>18813</th>\n",
       "      <td>1.0</td>\n",
       "      <td>122184.0</td>\n",
       "      <td>2022-02-02</td>\n",
       "    </tr>\n",
       "    <tr>\n",
       "      <th>19072</th>\n",
       "      <td>1.0</td>\n",
       "      <td>122184.0</td>\n",
       "      <td>2022-02-02</td>\n",
       "    </tr>\n",
       "    <tr>\n",
       "      <th>18981</th>\n",
       "      <td>1.0</td>\n",
       "      <td>122184.0</td>\n",
       "      <td>2022-02-02</td>\n",
       "    </tr>\n",
       "    <tr>\n",
       "      <th>31635</th>\n",
       "      <td>1.0</td>\n",
       "      <td>122184.0</td>\n",
       "      <td>2022-02-02</td>\n",
       "    </tr>\n",
       "    <tr>\n",
       "      <th>31214</th>\n",
       "      <td>1.0</td>\n",
       "      <td>122184.0</td>\n",
       "      <td>2022-02-02</td>\n",
       "    </tr>\n",
       "    <tr>\n",
       "      <th>19874</th>\n",
       "      <td>1.0</td>\n",
       "      <td>122184.0</td>\n",
       "      <td>2022-02-02</td>\n",
       "    </tr>\n",
       "    <tr>\n",
       "      <th>38270</th>\n",
       "      <td>1.0</td>\n",
       "      <td>125590.0</td>\n",
       "      <td>2022-02-03</td>\n",
       "    </tr>\n",
       "    <tr>\n",
       "      <th>38420</th>\n",
       "      <td>1.0</td>\n",
       "      <td>125590.0</td>\n",
       "      <td>2022-02-03</td>\n",
       "    </tr>\n",
       "    <tr>\n",
       "      <th>38842</th>\n",
       "      <td>1.0</td>\n",
       "      <td>125590.0</td>\n",
       "      <td>2022-02-03</td>\n",
       "    </tr>\n",
       "  </tbody>\n",
       "</table>\n",
       "</div>"
      ],
      "text/plain": [
       "       reserved  stock_id       date\n",
       "18309       1.0  122184.0 2022-02-02\n",
       "18327       1.0  122184.0 2022-02-02\n",
       "18661       1.0  122184.0 2022-02-02\n",
       "18509       1.0  122184.0 2022-02-02\n",
       "18682       1.0  122184.0 2022-02-02\n",
       "18813       1.0  122184.0 2022-02-02\n",
       "19072       1.0  122184.0 2022-02-02\n",
       "18981       1.0  122184.0 2022-02-02\n",
       "31635       1.0  122184.0 2022-02-02\n",
       "31214       1.0  122184.0 2022-02-02\n",
       "19874       1.0  122184.0 2022-02-02\n",
       "38270       1.0  125590.0 2022-02-03\n",
       "38420       1.0  125590.0 2022-02-03\n",
       "38842       1.0  125590.0 2022-02-03"
      ]
     },
     "execution_count": 14,
     "metadata": {},
     "output_type": "execute_result"
    }
   ],
   "source": [
    "web.loc[(web.user_id==3602521) & ( web.reserved==1),['reserved','stock_id','date']]"
   ]
  },
  {
   "cell_type": "markdown",
   "metadata": {
    "pycharm": {
     "name": "#%% md\n"
    }
   },
   "source": [
    "Viendo al usuario 360521, descubrí que reservo en 14 sesiones y 2 autos distintos Ademas, las 14 sesiones suceden dentro de un rango de 2 días.\n",
    " Por lo tanto, estas dos columnas no van a ser tenidas en cuenta para el analisis"
   ]
  },
  {
   "cell_type": "code",
   "execution_count": 15,
   "metadata": {
    "pycharm": {
     "name": "#%%\n"
    }
   },
   "outputs": [],
   "source": [
    "web= web.drop(['date','stock_id'],axis=1)"
   ]
  },
  {
   "cell_type": "markdown",
   "metadata": {
    "pycharm": {
     "name": "#%% md\n"
    }
   },
   "source": [
    "## Ajuste de las columnas"
   ]
  },
  {
   "cell_type": "markdown",
   "metadata": {
    "pycharm": {
     "name": "#%% md\n"
    }
   },
   "source": [
    "La variable dependiente puede ser user_with reserved or reserved. Ambas, son valores de 0 o 1  que  hace referencia a si un usuario reservó o no. Habra que ver cual de las dos es la variable target"
   ]
  },
  {
   "cell_type": "code",
   "execution_count": 16,
   "metadata": {
    "pycharm": {
     "name": "#%%\n"
    }
   },
   "outputs": [
    {
     "data": {
      "text/html": [
       "<div>\n",
       "<style scoped>\n",
       "    .dataframe tbody tr th:only-of-type {\n",
       "        vertical-align: middle;\n",
       "    }\n",
       "\n",
       "    .dataframe tbody tr th {\n",
       "        vertical-align: top;\n",
       "    }\n",
       "\n",
       "    .dataframe thead th {\n",
       "        text-align: right;\n",
       "    }\n",
       "</style>\n",
       "<table border=\"1\" class=\"dataframe\">\n",
       "  <thead>\n",
       "    <tr style=\"text-align: right;\">\n",
       "      <th></th>\n",
       "      <th>user_id</th>\n",
       "      <th>device_id</th>\n",
       "      <th>session_id</th>\n",
       "      <th>device_model</th>\n",
       "      <th>min_session_time</th>\n",
       "      <th>total_previous_sessions</th>\n",
       "      <th>total_previous_events</th>\n",
       "      <th>date_short</th>\n",
       "      <th>total_previous_vipphoto_selected</th>\n",
       "      <th>total_previous_vip360view_selected</th>\n",
       "      <th>...</th>\n",
       "      <th>total_previous_color_selected</th>\n",
       "      <th>city</th>\n",
       "      <th>region</th>\n",
       "      <th>time_on_screen_prev</th>\n",
       "      <th>min_total_sessions_prev</th>\n",
       "      <th>all_total_sessions_prev</th>\n",
       "      <th>total_sessions_prev</th>\n",
       "      <th>user_with_reserve</th>\n",
       "      <th>reserved</th>\n",
       "      <th>avg_time_previous_sessions</th>\n",
       "    </tr>\n",
       "  </thead>\n",
       "  <tbody>\n",
       "  </tbody>\n",
       "</table>\n",
       "<p>0 rows × 30 columns</p>\n",
       "</div>"
      ],
      "text/plain": [
       "Empty DataFrame\n",
       "Columns: [user_id, device_id, session_id, device_model, min_session_time, total_previous_sessions, total_previous_events, date_short, total_previous_vipphoto_selected, total_previous_vip360view_selected, total_previous_catalogfilter_selected, total_previous_vip_viewed, total_previous_cataloglist_viewed, total_previous_home_viewed, total_previous_year_selected, total_previous_make_selected, total_previous_model_selected, total_previous_version_selected, total_previous_mileage_selected, total_previous_location_selected, total_previous_color_selected, city, region, time_on_screen_prev, min_total_sessions_prev, all_total_sessions_prev, total_sessions_prev, user_with_reserve, reserved, avg_time_previous_sessions]\n",
       "Index: []\n",
       "\n",
       "[0 rows x 30 columns]"
      ]
     },
     "execution_count": 16,
     "metadata": {},
     "output_type": "execute_result"
    }
   ],
   "source": [
    "web[web.user_with_reserve!=web.reserved]"
   ]
  },
  {
   "cell_type": "markdown",
   "metadata": {
    "pycharm": {
     "name": "#%% md\n"
    }
   },
   "source": [
    "Ambas columnas son iguales, por lo tanto se borra un duplicado"
   ]
  },
  {
   "cell_type": "code",
   "execution_count": 17,
   "metadata": {
    "pycharm": {
     "name": "#%%\n"
    }
   },
   "outputs": [],
   "source": [
    "\n",
    "web=web.drop('user_with_reserve',axis=1)"
   ]
  },
  {
   "cell_type": "code",
   "execution_count": 18,
   "metadata": {
    "pycharm": {
     "name": "#%%\n"
    }
   },
   "outputs": [
    {
     "data": {
      "text/plain": [
       "Index(['user_id', 'device_id', 'session_id', 'device_model',\n",
       "       'min_session_time', 'total_previous_sessions', 'total_previous_events',\n",
       "       'date_short', 'total_previous_vipphoto_selected',\n",
       "       'total_previous_vip360view_selected',\n",
       "       'total_previous_catalogfilter_selected', 'total_previous_vip_viewed',\n",
       "       'total_previous_cataloglist_viewed', 'total_previous_home_viewed',\n",
       "       'total_previous_year_selected', 'total_previous_make_selected',\n",
       "       'total_previous_model_selected', 'total_previous_version_selected',\n",
       "       'total_previous_mileage_selected', 'total_previous_location_selected',\n",
       "       'total_previous_color_selected', 'city', 'region',\n",
       "       'time_on_screen_prev', 'min_total_sessions_prev',\n",
       "       'all_total_sessions_prev', 'total_sessions_prev', 'reserved',\n",
       "       'avg_time_previous_sessions'],\n",
       "      dtype='object')"
      ]
     },
     "execution_count": 18,
     "metadata": {},
     "output_type": "execute_result"
    }
   ],
   "source": [
    "web.columns"
   ]
  },
  {
   "cell_type": "markdown",
   "metadata": {},
   "source": [
    "las acciones son de esta sesion y el acumulado,por lo que decidi borrar el \"previous\" para no confundir"
   ]
  },
  {
   "cell_type": "code",
   "execution_count": 19,
   "metadata": {
    "pycharm": {
     "name": "#%%\n"
    }
   },
   "outputs": [
    {
     "data": {
      "text/html": [
       "<div>\n",
       "<style scoped>\n",
       "    .dataframe tbody tr th:only-of-type {\n",
       "        vertical-align: middle;\n",
       "    }\n",
       "\n",
       "    .dataframe tbody tr th {\n",
       "        vertical-align: top;\n",
       "    }\n",
       "\n",
       "    .dataframe thead th {\n",
       "        text-align: right;\n",
       "    }\n",
       "</style>\n",
       "<table border=\"1\" class=\"dataframe\">\n",
       "  <thead>\n",
       "    <tr style=\"text-align: right;\">\n",
       "      <th></th>\n",
       "      <th>user_id</th>\n",
       "      <th>device_id</th>\n",
       "      <th>session_id</th>\n",
       "      <th>device_model</th>\n",
       "      <th>min_session_time</th>\n",
       "      <th>total_sessions</th>\n",
       "      <th>total_events</th>\n",
       "      <th>date_short</th>\n",
       "      <th>total_vipphoto_selected</th>\n",
       "      <th>total_vip360view_selected</th>\n",
       "      <th>...</th>\n",
       "      <th>total_location_selected</th>\n",
       "      <th>total_color_selected</th>\n",
       "      <th>city</th>\n",
       "      <th>region</th>\n",
       "      <th>time_on_screen_prev</th>\n",
       "      <th>min_total_sessions_prev</th>\n",
       "      <th>all_total_sessions_prev</th>\n",
       "      <th>total_sessions_prev</th>\n",
       "      <th>reserved</th>\n",
       "      <th>avg_time_sessions</th>\n",
       "    </tr>\n",
       "  </thead>\n",
       "  <tbody>\n",
       "    <tr>\n",
       "      <th>51760</th>\n",
       "      <td>9015447</td>\n",
       "      <td>yWOTGT6B-WzQU514Cqx1gL</td>\n",
       "      <td>1644253316189</td>\n",
       "      <td>Android</td>\n",
       "      <td>2022-02-07 17:01:56.223</td>\n",
       "      <td>1</td>\n",
       "      <td>1</td>\n",
       "      <td>2022-01-01 00:11:51.858</td>\n",
       "      <td>0</td>\n",
       "      <td>0</td>\n",
       "      <td>...</td>\n",
       "      <td>0</td>\n",
       "      <td>0</td>\n",
       "      <td>Mexico City</td>\n",
       "      <td>Mexico City</td>\n",
       "      <td>0.0</td>\n",
       "      <td>0</td>\n",
       "      <td>0</td>\n",
       "      <td>1</td>\n",
       "      <td>0.0</td>\n",
       "      <td>0.000000</td>\n",
       "    </tr>\n",
       "    <tr>\n",
       "      <th>14885</th>\n",
       "      <td>8820027</td>\n",
       "      <td>LP42_fstvBPogWjh_1bkCg</td>\n",
       "      <td>1642913715699</td>\n",
       "      <td>Android</td>\n",
       "      <td>2022-01-23 04:55:17.124</td>\n",
       "      <td>1</td>\n",
       "      <td>9</td>\n",
       "      <td>2022-01-01 00:17:23.169</td>\n",
       "      <td>0</td>\n",
       "      <td>0</td>\n",
       "      <td>...</td>\n",
       "      <td>0</td>\n",
       "      <td>0</td>\n",
       "      <td>Iztapalapa</td>\n",
       "      <td>Mexico City</td>\n",
       "      <td>286.0</td>\n",
       "      <td>1</td>\n",
       "      <td>1</td>\n",
       "      <td>2</td>\n",
       "      <td>0.0</td>\n",
       "      <td>143.000000</td>\n",
       "    </tr>\n",
       "    <tr>\n",
       "      <th>3992</th>\n",
       "      <td>5510567</td>\n",
       "      <td>AKERRpRODjl02b39AjfNb8</td>\n",
       "      <td>1642459615372</td>\n",
       "      <td>Android</td>\n",
       "      <td>2022-01-17 22:46:55.395</td>\n",
       "      <td>1</td>\n",
       "      <td>1</td>\n",
       "      <td>2022-01-01 00:22:28.720</td>\n",
       "      <td>0</td>\n",
       "      <td>0</td>\n",
       "      <td>...</td>\n",
       "      <td>0</td>\n",
       "      <td>0</td>\n",
       "      <td>Mexico City</td>\n",
       "      <td>Mexico City</td>\n",
       "      <td>0.0</td>\n",
       "      <td>0</td>\n",
       "      <td>0</td>\n",
       "      <td>1</td>\n",
       "      <td>0.0</td>\n",
       "      <td>0.000000</td>\n",
       "    </tr>\n",
       "    <tr>\n",
       "      <th>131349</th>\n",
       "      <td>8665203</td>\n",
       "      <td>SxeKxvgE3mkec-e21Ej-bm</td>\n",
       "      <td>1647229337062</td>\n",
       "      <td>Android</td>\n",
       "      <td>2022-03-14 03:42:17.095</td>\n",
       "      <td>1</td>\n",
       "      <td>9</td>\n",
       "      <td>2022-01-01 00:27:00.994</td>\n",
       "      <td>0</td>\n",
       "      <td>0</td>\n",
       "      <td>...</td>\n",
       "      <td>0</td>\n",
       "      <td>0</td>\n",
       "      <td>Mexico City</td>\n",
       "      <td>Mexico City</td>\n",
       "      <td>379.0</td>\n",
       "      <td>1</td>\n",
       "      <td>1</td>\n",
       "      <td>2</td>\n",
       "      <td>0.0</td>\n",
       "      <td>189.500000</td>\n",
       "    </tr>\n",
       "    <tr>\n",
       "      <th>25970</th>\n",
       "      <td>8409083</td>\n",
       "      <td>CttzrxBwYiDT93zwK93Xmt</td>\n",
       "      <td>1643398529809</td>\n",
       "      <td>Android</td>\n",
       "      <td>2022-01-28 19:35:32.308</td>\n",
       "      <td>1</td>\n",
       "      <td>1</td>\n",
       "      <td>2022-01-01 00:28:48.352</td>\n",
       "      <td>0</td>\n",
       "      <td>0</td>\n",
       "      <td>...</td>\n",
       "      <td>0</td>\n",
       "      <td>0</td>\n",
       "      <td>Mexico City</td>\n",
       "      <td>México</td>\n",
       "      <td>0.0</td>\n",
       "      <td>0</td>\n",
       "      <td>0</td>\n",
       "      <td>1</td>\n",
       "      <td>0.0</td>\n",
       "      <td>0.000000</td>\n",
       "    </tr>\n",
       "    <tr>\n",
       "      <th>...</th>\n",
       "      <td>...</td>\n",
       "      <td>...</td>\n",
       "      <td>...</td>\n",
       "      <td>...</td>\n",
       "      <td>...</td>\n",
       "      <td>...</td>\n",
       "      <td>...</td>\n",
       "      <td>...</td>\n",
       "      <td>...</td>\n",
       "      <td>...</td>\n",
       "      <td>...</td>\n",
       "      <td>...</td>\n",
       "      <td>...</td>\n",
       "      <td>...</td>\n",
       "      <td>...</td>\n",
       "      <td>...</td>\n",
       "      <td>...</td>\n",
       "      <td>...</td>\n",
       "      <td>...</td>\n",
       "      <td>...</td>\n",
       "      <td>...</td>\n",
       "    </tr>\n",
       "    <tr>\n",
       "      <th>214144</th>\n",
       "      <td>5557797</td>\n",
       "      <td>ITao0pyc-03mus8Rf9JcN5</td>\n",
       "      <td>1651362376439</td>\n",
       "      <td>Android</td>\n",
       "      <td>2022-04-30 23:46:16.457</td>\n",
       "      <td>5</td>\n",
       "      <td>132</td>\n",
       "      <td>2022-04-30 23:15:32.991</td>\n",
       "      <td>0</td>\n",
       "      <td>0</td>\n",
       "      <td>...</td>\n",
       "      <td>0</td>\n",
       "      <td>0</td>\n",
       "      <td>Mexico City</td>\n",
       "      <td>Mexico City</td>\n",
       "      <td>6476.0</td>\n",
       "      <td>3</td>\n",
       "      <td>3</td>\n",
       "      <td>4</td>\n",
       "      <td>0.0</td>\n",
       "      <td>1619.000000</td>\n",
       "    </tr>\n",
       "    <tr>\n",
       "      <th>214111</th>\n",
       "      <td>6220646</td>\n",
       "      <td>2e8d803d-822f-400c-9338-99a57ca8de9e</td>\n",
       "      <td>1651361409595</td>\n",
       "      <td>moto g(8) plus</td>\n",
       "      <td>2022-04-30 23:30:09.595</td>\n",
       "      <td>21</td>\n",
       "      <td>145</td>\n",
       "      <td>2022-04-30 23:29:00.824</td>\n",
       "      <td>0</td>\n",
       "      <td>0</td>\n",
       "      <td>...</td>\n",
       "      <td>0</td>\n",
       "      <td>0</td>\n",
       "      <td>Guadalajara</td>\n",
       "      <td>Jalisco</td>\n",
       "      <td>87487.0</td>\n",
       "      <td>18</td>\n",
       "      <td>18</td>\n",
       "      <td>19</td>\n",
       "      <td>0.0</td>\n",
       "      <td>4604.578947</td>\n",
       "    </tr>\n",
       "    <tr>\n",
       "      <th>214150</th>\n",
       "      <td>5910763</td>\n",
       "      <td>1869c436-faaf-41ee-aa01-fb7c31b80954</td>\n",
       "      <td>1651362633868</td>\n",
       "      <td>SM-A515F</td>\n",
       "      <td>2022-04-30 23:50:33.868</td>\n",
       "      <td>17</td>\n",
       "      <td>235</td>\n",
       "      <td>2022-04-30 23:42:58.439</td>\n",
       "      <td>0</td>\n",
       "      <td>0</td>\n",
       "      <td>...</td>\n",
       "      <td>0</td>\n",
       "      <td>1</td>\n",
       "      <td>Puebla City</td>\n",
       "      <td>Puebla</td>\n",
       "      <td>48362.0</td>\n",
       "      <td>20</td>\n",
       "      <td>20</td>\n",
       "      <td>17</td>\n",
       "      <td>1.0</td>\n",
       "      <td>2844.823529</td>\n",
       "    </tr>\n",
       "    <tr>\n",
       "      <th>214142</th>\n",
       "      <td>87114</td>\n",
       "      <td>2e357941-9c2d-49b3-86a5-0799d80a7913R</td>\n",
       "      <td>1651362348345</td>\n",
       "      <td>SM-A705MN</td>\n",
       "      <td>2022-04-30 23:45:48.345</td>\n",
       "      <td>10</td>\n",
       "      <td>184</td>\n",
       "      <td>2022-04-30 23:45:03.997</td>\n",
       "      <td>0</td>\n",
       "      <td>0</td>\n",
       "      <td>...</td>\n",
       "      <td>3</td>\n",
       "      <td>3</td>\n",
       "      <td>Tizayuca</td>\n",
       "      <td>Hidalgo</td>\n",
       "      <td>5379364.0</td>\n",
       "      <td>19</td>\n",
       "      <td>19</td>\n",
       "      <td>11</td>\n",
       "      <td>0.0</td>\n",
       "      <td>489033.090909</td>\n",
       "    </tr>\n",
       "    <tr>\n",
       "      <th>214156</th>\n",
       "      <td>9742739</td>\n",
       "      <td>1aad33ac-8e00-4f1a-abf7-5ec15d537706</td>\n",
       "      <td>1651362831138</td>\n",
       "      <td>moto e5 play</td>\n",
       "      <td>2022-04-30 23:53:51.138</td>\n",
       "      <td>2</td>\n",
       "      <td>6</td>\n",
       "      <td>2022-04-30 23:53:36.513</td>\n",
       "      <td>0</td>\n",
       "      <td>0</td>\n",
       "      <td>...</td>\n",
       "      <td>0</td>\n",
       "      <td>0</td>\n",
       "      <td>Tecamac</td>\n",
       "      <td>México</td>\n",
       "      <td>90.0</td>\n",
       "      <td>1</td>\n",
       "      <td>1</td>\n",
       "      <td>2</td>\n",
       "      <td>0.0</td>\n",
       "      <td>45.000000</td>\n",
       "    </tr>\n",
       "  </tbody>\n",
       "</table>\n",
       "<p>214160 rows × 29 columns</p>\n",
       "</div>"
      ],
      "text/plain": [
       "        user_id                              device_id     session_id  \\\n",
       "51760   9015447                 yWOTGT6B-WzQU514Cqx1gL  1644253316189   \n",
       "14885   8820027                 LP42_fstvBPogWjh_1bkCg  1642913715699   \n",
       "3992    5510567                 AKERRpRODjl02b39AjfNb8  1642459615372   \n",
       "131349  8665203                 SxeKxvgE3mkec-e21Ej-bm  1647229337062   \n",
       "25970   8409083                 CttzrxBwYiDT93zwK93Xmt  1643398529809   \n",
       "...         ...                                    ...            ...   \n",
       "214144  5557797                 ITao0pyc-03mus8Rf9JcN5  1651362376439   \n",
       "214111  6220646   2e8d803d-822f-400c-9338-99a57ca8de9e  1651361409595   \n",
       "214150  5910763   1869c436-faaf-41ee-aa01-fb7c31b80954  1651362633868   \n",
       "214142    87114  2e357941-9c2d-49b3-86a5-0799d80a7913R  1651362348345   \n",
       "214156  9742739   1aad33ac-8e00-4f1a-abf7-5ec15d537706  1651362831138   \n",
       "\n",
       "          device_model        min_session_time  total_sessions  total_events  \\\n",
       "51760          Android 2022-02-07 17:01:56.223               1             1   \n",
       "14885          Android 2022-01-23 04:55:17.124               1             9   \n",
       "3992           Android 2022-01-17 22:46:55.395               1             1   \n",
       "131349         Android 2022-03-14 03:42:17.095               1             9   \n",
       "25970          Android 2022-01-28 19:35:32.308               1             1   \n",
       "...                ...                     ...             ...           ...   \n",
       "214144         Android 2022-04-30 23:46:16.457               5           132   \n",
       "214111  moto g(8) plus 2022-04-30 23:30:09.595              21           145   \n",
       "214150        SM-A515F 2022-04-30 23:50:33.868              17           235   \n",
       "214142       SM-A705MN 2022-04-30 23:45:48.345              10           184   \n",
       "214156    moto e5 play 2022-04-30 23:53:51.138               2             6   \n",
       "\n",
       "                    date_short  total_vipphoto_selected  \\\n",
       "51760  2022-01-01 00:11:51.858                        0   \n",
       "14885  2022-01-01 00:17:23.169                        0   \n",
       "3992   2022-01-01 00:22:28.720                        0   \n",
       "131349 2022-01-01 00:27:00.994                        0   \n",
       "25970  2022-01-01 00:28:48.352                        0   \n",
       "...                        ...                      ...   \n",
       "214144 2022-04-30 23:15:32.991                        0   \n",
       "214111 2022-04-30 23:29:00.824                        0   \n",
       "214150 2022-04-30 23:42:58.439                        0   \n",
       "214142 2022-04-30 23:45:03.997                        0   \n",
       "214156 2022-04-30 23:53:36.513                        0   \n",
       "\n",
       "        total_vip360view_selected  ...  total_location_selected  \\\n",
       "51760                           0  ...                        0   \n",
       "14885                           0  ...                        0   \n",
       "3992                            0  ...                        0   \n",
       "131349                          0  ...                        0   \n",
       "25970                           0  ...                        0   \n",
       "...                           ...  ...                      ...   \n",
       "214144                          0  ...                        0   \n",
       "214111                          0  ...                        0   \n",
       "214150                          0  ...                        0   \n",
       "214142                          0  ...                        3   \n",
       "214156                          0  ...                        0   \n",
       "\n",
       "        total_color_selected         city       region  time_on_screen_prev  \\\n",
       "51760                      0  Mexico City  Mexico City                  0.0   \n",
       "14885                      0   Iztapalapa  Mexico City                286.0   \n",
       "3992                       0  Mexico City  Mexico City                  0.0   \n",
       "131349                     0  Mexico City  Mexico City                379.0   \n",
       "25970                      0  Mexico City       México                  0.0   \n",
       "...                      ...          ...          ...                  ...   \n",
       "214144                     0  Mexico City  Mexico City               6476.0   \n",
       "214111                     0  Guadalajara      Jalisco              87487.0   \n",
       "214150                     1  Puebla City       Puebla              48362.0   \n",
       "214142                     3     Tizayuca      Hidalgo            5379364.0   \n",
       "214156                     0      Tecamac       México                 90.0   \n",
       "\n",
       "        min_total_sessions_prev  all_total_sessions_prev  total_sessions_prev  \\\n",
       "51760                         0                        0                    1   \n",
       "14885                         1                        1                    2   \n",
       "3992                          0                        0                    1   \n",
       "131349                        1                        1                    2   \n",
       "25970                         0                        0                    1   \n",
       "...                         ...                      ...                  ...   \n",
       "214144                        3                        3                    4   \n",
       "214111                       18                       18                   19   \n",
       "214150                       20                       20                   17   \n",
       "214142                       19                       19                   11   \n",
       "214156                        1                        1                    2   \n",
       "\n",
       "        reserved  avg_time_sessions  \n",
       "51760        0.0           0.000000  \n",
       "14885        0.0         143.000000  \n",
       "3992         0.0           0.000000  \n",
       "131349       0.0         189.500000  \n",
       "25970        0.0           0.000000  \n",
       "...          ...                ...  \n",
       "214144       0.0        1619.000000  \n",
       "214111       0.0        4604.578947  \n",
       "214150       1.0        2844.823529  \n",
       "214142       0.0      489033.090909  \n",
       "214156       0.0          45.000000  \n",
       "\n",
       "[214160 rows x 29 columns]"
      ]
     },
     "execution_count": 19,
     "metadata": {},
     "output_type": "execute_result"
    }
   ],
   "source": [
    "\n",
    "def normalize(df):\n",
    "  df.columns = df.columns.str.replace(\"_previous\",\"\")\n",
    "normalize(web)\n",
    "web"
   ]
  },
  {
   "cell_type": "markdown",
   "metadata": {},
   "source": [
    "Min_short_date es la columna correspondiente a la fecha de la sesion de cada registro"
   ]
  },
  {
   "cell_type": "code",
   "execution_count": 20,
   "metadata": {
    "pycharm": {
     "name": "#%%\n"
    }
   },
   "outputs": [],
   "source": [
    "web=web.rename(columns={'min_session_time':'session_date'})"
   ]
  },
  {
   "cell_type": "code",
   "execution_count": 21,
   "metadata": {
    "pycharm": {
     "name": "#%%\n"
    }
   },
   "outputs": [],
   "source": [
    "web['mes_sesion']=web['session_date'].dt.month"
   ]
  },
  {
   "cell_type": "markdown",
   "metadata": {
    "pycharm": {
     "name": "#%% md\n"
    }
   },
   "source": [
    "se creo la columna correspondiente al mes de sesión"
   ]
  },
  {
   "cell_type": "markdown",
   "metadata": {
    "pycharm": {
     "name": "#%% md\n"
    }
   },
   "source": [
    "Existen tres columnas que hacen referencia a la fecha. Falta analizar \"date_short\""
   ]
  },
  {
   "cell_type": "code",
   "execution_count": 22,
   "metadata": {
    "pycharm": {
     "name": "#%%\n"
    }
   },
   "outputs": [
    {
     "data": {
      "text/html": [
       "<div>\n",
       "<style scoped>\n",
       "    .dataframe tbody tr th:only-of-type {\n",
       "        vertical-align: middle;\n",
       "    }\n",
       "\n",
       "    .dataframe tbody tr th {\n",
       "        vertical-align: top;\n",
       "    }\n",
       "\n",
       "    .dataframe thead th {\n",
       "        text-align: right;\n",
       "    }\n",
       "</style>\n",
       "<table border=\"1\" class=\"dataframe\">\n",
       "  <thead>\n",
       "    <tr style=\"text-align: right;\">\n",
       "      <th></th>\n",
       "      <th>session_date</th>\n",
       "      <th>date_short</th>\n",
       "    </tr>\n",
       "  </thead>\n",
       "  <tbody>\n",
       "    <tr>\n",
       "      <th>51760</th>\n",
       "      <td>2022-02-07 17:01:56.223</td>\n",
       "      <td>2022-01-01 00:11:51.858</td>\n",
       "    </tr>\n",
       "    <tr>\n",
       "      <th>14885</th>\n",
       "      <td>2022-01-23 04:55:17.124</td>\n",
       "      <td>2022-01-01 00:17:23.169</td>\n",
       "    </tr>\n",
       "    <tr>\n",
       "      <th>3992</th>\n",
       "      <td>2022-01-17 22:46:55.395</td>\n",
       "      <td>2022-01-01 00:22:28.720</td>\n",
       "    </tr>\n",
       "    <tr>\n",
       "      <th>131349</th>\n",
       "      <td>2022-03-14 03:42:17.095</td>\n",
       "      <td>2022-01-01 00:27:00.994</td>\n",
       "    </tr>\n",
       "    <tr>\n",
       "      <th>25970</th>\n",
       "      <td>2022-01-28 19:35:32.308</td>\n",
       "      <td>2022-01-01 00:28:48.352</td>\n",
       "    </tr>\n",
       "    <tr>\n",
       "      <th>...</th>\n",
       "      <td>...</td>\n",
       "      <td>...</td>\n",
       "    </tr>\n",
       "    <tr>\n",
       "      <th>214144</th>\n",
       "      <td>2022-04-30 23:46:16.457</td>\n",
       "      <td>2022-04-30 23:15:32.991</td>\n",
       "    </tr>\n",
       "    <tr>\n",
       "      <th>214111</th>\n",
       "      <td>2022-04-30 23:30:09.595</td>\n",
       "      <td>2022-04-30 23:29:00.824</td>\n",
       "    </tr>\n",
       "    <tr>\n",
       "      <th>214150</th>\n",
       "      <td>2022-04-30 23:50:33.868</td>\n",
       "      <td>2022-04-30 23:42:58.439</td>\n",
       "    </tr>\n",
       "    <tr>\n",
       "      <th>214142</th>\n",
       "      <td>2022-04-30 23:45:48.345</td>\n",
       "      <td>2022-04-30 23:45:03.997</td>\n",
       "    </tr>\n",
       "    <tr>\n",
       "      <th>214156</th>\n",
       "      <td>2022-04-30 23:53:51.138</td>\n",
       "      <td>2022-04-30 23:53:36.513</td>\n",
       "    </tr>\n",
       "  </tbody>\n",
       "</table>\n",
       "<p>214160 rows × 2 columns</p>\n",
       "</div>"
      ],
      "text/plain": [
       "                  session_date              date_short\n",
       "51760  2022-02-07 17:01:56.223 2022-01-01 00:11:51.858\n",
       "14885  2022-01-23 04:55:17.124 2022-01-01 00:17:23.169\n",
       "3992   2022-01-17 22:46:55.395 2022-01-01 00:22:28.720\n",
       "131349 2022-03-14 03:42:17.095 2022-01-01 00:27:00.994\n",
       "25970  2022-01-28 19:35:32.308 2022-01-01 00:28:48.352\n",
       "...                        ...                     ...\n",
       "214144 2022-04-30 23:46:16.457 2022-04-30 23:15:32.991\n",
       "214111 2022-04-30 23:30:09.595 2022-04-30 23:29:00.824\n",
       "214150 2022-04-30 23:50:33.868 2022-04-30 23:42:58.439\n",
       "214142 2022-04-30 23:45:48.345 2022-04-30 23:45:03.997\n",
       "214156 2022-04-30 23:53:51.138 2022-04-30 23:53:36.513\n",
       "\n",
       "[214160 rows x 2 columns]"
      ]
     },
     "execution_count": 22,
     "metadata": {},
     "output_type": "execute_result"
    }
   ],
   "source": [
    "web.loc[:,['session_date','date_short']]"
   ]
  },
  {
   "cell_type": "markdown",
   "metadata": {
    "pycharm": {
     "name": "#%% md\n"
    }
   },
   "source": [
    "Date_short  es anterior a la fecha de sesion por lo que queda descartada"
   ]
  },
  {
   "cell_type": "code",
   "execution_count": 23,
   "metadata": {
    "pycharm": {
     "name": "#%%\n"
    }
   },
   "outputs": [],
   "source": [
    "web=web.drop('date_short',axis=1)"
   ]
  },
  {
   "cell_type": "markdown",
   "metadata": {
    "pycharm": {
     "name": "#%% md\n"
    }
   },
   "source": [
    "El tiempo en sesión esta medido en segundos"
   ]
  },
  {
   "cell_type": "code",
   "execution_count": 24,
   "metadata": {
    "pycharm": {
     "name": "#%%\n"
    }
   },
   "outputs": [],
   "source": [
    "web = web.rename(columns={'time_on_screen_prev': 'seconds on screen'})\n",
    "web['muinutes on screen'] = web['seconds on screen'] / 60"
   ]
  },
  {
   "cell_type": "code",
   "execution_count": 25,
   "metadata": {
    "pycharm": {
     "name": "#%%\n"
    }
   },
   "outputs": [],
   "source": [
    "web=web.rename(columns={'avg_time_sessions': 'avg seconds on screen'})\n",
    "web['avg minutes on screen'] = web['avg seconds on screen'] / 60"
   ]
  },
  {
   "cell_type": "markdown",
   "metadata": {},
   "source": [
    "Las columnas min_total_sessions_prev,total_sessions_prev , total_sessions y all_total_sessions_prev muestran la cantidad de sesiones previas.\n",
    "\n",
    "Segun sql: dense_rank() over(partition by device_id order by session_id) as total_sessions_prev\n",
    "\n",
    "Para trabajar, voy a quedarme solo con esta última."
   ]
  },
  {
   "cell_type": "code",
   "execution_count": 26,
   "metadata": {
    "pycharm": {
     "name": "#%%\n"
    }
   },
   "outputs": [],
   "source": [
    "web=web.drop(['min_total_sessions_prev','all_total_sessions_prev','total_sessions'],axis=1)"
   ]
  },
  {
   "cell_type": "markdown",
   "metadata": {
    "pycharm": {
     "name": "#%% md\n"
    }
   },
   "source": []
  },
  {
   "cell_type": "markdown",
   "metadata": {},
   "source": [
    "# Busqueda de Objetivo"
   ]
  },
  {
   "cell_type": "markdown",
   "metadata": {
    "pycharm": {
     "name": "#%% md\n"
    }
   },
   "source": [
    "## Relacion entre cantidad de dispositivos y reserva"
   ]
  },
  {
   "cell_type": "code",
   "execution_count": 27,
   "metadata": {
    "pycharm": {
     "name": "#%%\n"
    }
   },
   "outputs": [
    {
     "data": {
      "text/html": [
       "<div>\n",
       "<style scoped>\n",
       "    .dataframe tbody tr th:only-of-type {\n",
       "        vertical-align: middle;\n",
       "    }\n",
       "\n",
       "    .dataframe tbody tr th {\n",
       "        vertical-align: top;\n",
       "    }\n",
       "\n",
       "    .dataframe thead th {\n",
       "        text-align: right;\n",
       "    }\n",
       "</style>\n",
       "<table border=\"1\" class=\"dataframe\">\n",
       "  <thead>\n",
       "    <tr style=\"text-align: right;\">\n",
       "      <th></th>\n",
       "      <th>devices_used</th>\n",
       "      <th>reserved</th>\n",
       "    </tr>\n",
       "    <tr>\n",
       "      <th>user_id</th>\n",
       "      <th></th>\n",
       "      <th></th>\n",
       "    </tr>\n",
       "  </thead>\n",
       "  <tbody>\n",
       "    <tr>\n",
       "      <th>104</th>\n",
       "      <td>1</td>\n",
       "      <td>0.0</td>\n",
       "    </tr>\n",
       "    <tr>\n",
       "      <th>136</th>\n",
       "      <td>1</td>\n",
       "      <td>1.0</td>\n",
       "    </tr>\n",
       "    <tr>\n",
       "      <th>137</th>\n",
       "      <td>1</td>\n",
       "      <td>0.0</td>\n",
       "    </tr>\n",
       "    <tr>\n",
       "      <th>166</th>\n",
       "      <td>1</td>\n",
       "      <td>0.0</td>\n",
       "    </tr>\n",
       "    <tr>\n",
       "      <th>201</th>\n",
       "      <td>1</td>\n",
       "      <td>0.0</td>\n",
       "    </tr>\n",
       "    <tr>\n",
       "      <th>...</th>\n",
       "      <td>...</td>\n",
       "      <td>...</td>\n",
       "    </tr>\n",
       "    <tr>\n",
       "      <th>9756022</th>\n",
       "      <td>1</td>\n",
       "      <td>0.0</td>\n",
       "    </tr>\n",
       "    <tr>\n",
       "      <th>9759725</th>\n",
       "      <td>1</td>\n",
       "      <td>0.0</td>\n",
       "    </tr>\n",
       "    <tr>\n",
       "      <th>9776787</th>\n",
       "      <td>1</td>\n",
       "      <td>0.0</td>\n",
       "    </tr>\n",
       "    <tr>\n",
       "      <th>9790603</th>\n",
       "      <td>1</td>\n",
       "      <td>0.0</td>\n",
       "    </tr>\n",
       "    <tr>\n",
       "      <th>9856417</th>\n",
       "      <td>1</td>\n",
       "      <td>0.0</td>\n",
       "    </tr>\n",
       "  </tbody>\n",
       "</table>\n",
       "<p>140084 rows × 2 columns</p>\n",
       "</div>"
      ],
      "text/plain": [
       "         devices_used  reserved\n",
       "user_id                        \n",
       "104                 1       0.0\n",
       "136                 1       1.0\n",
       "137                 1       0.0\n",
       "166                 1       0.0\n",
       "201                 1       0.0\n",
       "...               ...       ...\n",
       "9756022             1       0.0\n",
       "9759725             1       0.0\n",
       "9776787             1       0.0\n",
       "9790603             1       0.0\n",
       "9856417             1       0.0\n",
       "\n",
       "[140084 rows x 2 columns]"
      ]
     },
     "execution_count": 27,
     "metadata": {},
     "output_type": "execute_result"
    }
   ],
   "source": [
    "cantidad_de_dispositivos=web.groupby(web.user_id).agg(devices_used=('device_id','nunique'),reserved=('reserved','sum'))\n",
    "cantidad_de_dispositivos"
   ]
  },
  {
   "cell_type": "markdown",
   "metadata": {
    "pycharm": {
     "name": "#%% md\n"
    }
   },
   "source": [
    "¿Tiene una relación positiva la cantidad de dispositivos usados y la reserva?¿Será que un usuario que quiere reservar,esta constantemente entrando a la pagina web, desde cualquier dispositivo que tenga cercano?"
   ]
  },
  {
   "cell_type": "code",
   "execution_count": 28,
   "metadata": {
    "pycharm": {
     "name": "#%%\n"
    }
   },
   "outputs": [
    {
     "data": {
      "text/plain": [
       "array([ 1,  3,  2,  6,  7,  5, 11,  4,  8,  9], dtype=int64)"
      ]
     },
     "execution_count": 28,
     "metadata": {},
     "output_type": "execute_result"
    }
   ],
   "source": [
    "cantidad_de_dispositivos.devices_used.unique()"
   ]
  },
  {
   "cell_type": "code",
   "execution_count": 29,
   "metadata": {
    "pycharm": {
     "name": "#%%\n"
    }
   },
   "outputs": [
    {
     "data": {
      "text/html": [
       "<div>\n",
       "<style scoped>\n",
       "    .dataframe tbody tr th:only-of-type {\n",
       "        vertical-align: middle;\n",
       "    }\n",
       "\n",
       "    .dataframe tbody tr th {\n",
       "        vertical-align: top;\n",
       "    }\n",
       "\n",
       "    .dataframe thead th {\n",
       "        text-align: right;\n",
       "    }\n",
       "</style>\n",
       "<table border=\"1\" class=\"dataframe\">\n",
       "  <thead>\n",
       "    <tr style=\"text-align: right;\">\n",
       "      <th></th>\n",
       "      <th>devices_used</th>\n",
       "      <th>reserved</th>\n",
       "    </tr>\n",
       "    <tr>\n",
       "      <th>user_id</th>\n",
       "      <th></th>\n",
       "      <th></th>\n",
       "    </tr>\n",
       "  </thead>\n",
       "  <tbody>\n",
       "    <tr>\n",
       "      <th>2066</th>\n",
       "      <td>11</td>\n",
       "      <td>0.0</td>\n",
       "    </tr>\n",
       "    <tr>\n",
       "      <th>6126706</th>\n",
       "      <td>11</td>\n",
       "      <td>0.0</td>\n",
       "    </tr>\n",
       "  </tbody>\n",
       "</table>\n",
       "</div>"
      ],
      "text/plain": [
       "         devices_used  reserved\n",
       "user_id                        \n",
       "2066               11       0.0\n",
       "6126706            11       0.0"
      ]
     },
     "execution_count": 29,
     "metadata": {},
     "output_type": "execute_result"
    }
   ],
   "source": [
    "cantidad_de_dispositivos.loc[cantidad_de_dispositivos.devices_used==11]"
   ]
  },
  {
   "cell_type": "markdown",
   "metadata": {
    "pycharm": {
     "name": "#%% md\n"
    }
   },
   "source": [
    "aca vemos un usuario que ingreso con 11 dispositivos diferentes pero no reservo un auto."
   ]
  },
  {
   "cell_type": "code",
   "execution_count": 30,
   "metadata": {
    "pycharm": {
     "name": "#%%\n"
    }
   },
   "outputs": [
    {
     "data": {
      "text/html": [
       "<div>\n",
       "<style scoped>\n",
       "    .dataframe tbody tr th:only-of-type {\n",
       "        vertical-align: middle;\n",
       "    }\n",
       "\n",
       "    .dataframe tbody tr th {\n",
       "        vertical-align: top;\n",
       "    }\n",
       "\n",
       "    .dataframe thead th {\n",
       "        text-align: right;\n",
       "    }\n",
       "</style>\n",
       "<table border=\"1\" class=\"dataframe\">\n",
       "  <thead>\n",
       "    <tr style=\"text-align: right;\">\n",
       "      <th></th>\n",
       "      <th>devices_used</th>\n",
       "      <th>reserved</th>\n",
       "    </tr>\n",
       "    <tr>\n",
       "      <th>user_id</th>\n",
       "      <th></th>\n",
       "      <th></th>\n",
       "    </tr>\n",
       "  </thead>\n",
       "  <tbody>\n",
       "    <tr>\n",
       "      <th>4362580</th>\n",
       "      <td>9</td>\n",
       "      <td>0.0</td>\n",
       "    </tr>\n",
       "  </tbody>\n",
       "</table>\n",
       "</div>"
      ],
      "text/plain": [
       "         devices_used  reserved\n",
       "user_id                        \n",
       "4362580             9       0.0"
      ]
     },
     "execution_count": 30,
     "metadata": {},
     "output_type": "execute_result"
    }
   ],
   "source": [
    "cantidad_de_dispositivos.loc[cantidad_de_dispositivos.devices_used==9]"
   ]
  },
  {
   "cell_type": "markdown",
   "metadata": {
    "pycharm": {
     "name": "#%% md\n"
    }
   },
   "source": [
    "lo mismo sucede con 9"
   ]
  },
  {
   "cell_type": "code",
   "execution_count": 31,
   "metadata": {
    "pycharm": {
     "name": "#%%\n"
    }
   },
   "outputs": [
    {
     "data": {
      "text/plain": [
       "count    8863.000000\n",
       "mean        1.717477\n",
       "std         0.904399\n",
       "min         1.000000\n",
       "25%         1.000000\n",
       "50%         1.000000\n",
       "75%         2.000000\n",
       "max         8.000000\n",
       "Name: devices_used, dtype: float64"
      ]
     },
     "execution_count": 31,
     "metadata": {},
     "output_type": "execute_result"
    }
   ],
   "source": [
    "cantidad_de_dispositivos.loc[cantidad_de_dispositivos.reserved>0 ,'devices_used'].describe()"
   ]
  },
  {
   "cell_type": "code",
   "execution_count": 32,
   "metadata": {
    "pycharm": {
     "name": "#%%\n"
    }
   },
   "outputs": [
    {
     "data": {
      "text/plain": [
       "count    131221.000000\n",
       "mean          1.104915\n",
       "std           0.360302\n",
       "min           1.000000\n",
       "25%           1.000000\n",
       "50%           1.000000\n",
       "75%           1.000000\n",
       "max          11.000000\n",
       "Name: devices_used, dtype: float64"
      ]
     },
     "execution_count": 32,
     "metadata": {},
     "output_type": "execute_result"
    }
   ],
   "source": [
    "cantidad_de_dispositivos.loc[cantidad_de_dispositivos.reserved==0 ,'devices_used'].describe()"
   ]
  },
  {
   "cell_type": "markdown",
   "metadata": {
    "pycharm": {
     "name": "#%% md\n"
    }
   },
   "source": [
    "Podemos ver que la media de dispositivos usados para usuarios que reservaron y para los que no es de 1 dispositivo. Sin embargo, el 75% de los usuarios que reservan usan dos dispositivos , mientras que los usuarios que no reservan, usan uno"
   ]
  },
  {
   "cell_type": "markdown",
   "metadata": {
    "pycharm": {
     "name": "#%% md\n"
    }
   },
   "source": [
    "¿cuales son los dispositivos mas usados?\n"
   ]
  },
  {
   "cell_type": "code",
   "execution_count": 33,
   "metadata": {
    "pycharm": {
     "name": "#%%\n"
    }
   },
   "outputs": [
    {
     "data": {
      "text/plain": [
       "Android           127440\n",
       "iPhone             32580\n",
       "Windows            29646\n",
       "Mac                 6428\n",
       "STK-LX3              610\n",
       "                   ...  \n",
       "SM-P580                0\n",
       "COVET_PRO_LITE         0\n",
       "M2006C3LI              0\n",
       "CPH2009                0\n",
       "iPhone14,6             0\n",
       "Name: device_model, Length: 776, dtype: int64"
      ]
     },
     "execution_count": 33,
     "metadata": {},
     "output_type": "execute_result"
    }
   ],
   "source": [
    "web.device_model.value_counts()"
   ]
  },
  {
   "cell_type": "markdown",
   "metadata": {
    "pycharm": {
     "name": "#%% md\n"
    }
   },
   "source": [
    "Hay varios modelos distintos que corresponden a una sola marca.Para que sea más eficiente , se va a buscar en internet que modelos pertenencen a la misma marca y agruparlos"
   ]
  },
  {
   "cell_type": "code",
   "execution_count": 34,
   "metadata": {
    "pycharm": {
     "name": "#%%\n"
    }
   },
   "outputs": [],
   "source": [
    "web['device_model'] = web['device_model'].apply(lambda x : \"Apple\" if x.startswith(\"i\")or x == \"Mac\"\\\n",
    "        else \"samsung\" if x.startswith(\"SM\")\\\n",
    "        else  \"motorola\" if x.startswith(\"moto\")\n",
    "        else  \"redmi\" if x.startswith(\"Redmi\")\n",
    "        else \"xiaomi\" if x.startswith(\"M\") or x.startswith(\"210\")\n",
    "        else \"hauwei\" if \"-L\" in x\n",
    "        else \"oppo\"  if x.startswith(\"CPH\")\n",
    "        else \"ZTE\"   if x.startswith(\"ZTE\")\n",
    "        else \"LG\"    if x.startswith(\"LM-\")\n",
    "        else x)"
   ]
  },
  {
   "cell_type": "markdown",
   "metadata": {
    "pycharm": {
     "name": "#%% md\n"
    }
   },
   "source": [
    "El resto quedarán en una categoría \"others\""
   ]
  },
  {
   "cell_type": "code",
   "execution_count": 35,
   "metadata": {
    "pycharm": {
     "name": "#%%\n"
    }
   },
   "outputs": [],
   "source": [
    "devices=web.device_model.value_counts()\n",
    "others=devices[devices <78].index.to_list()\n"
   ]
  },
  {
   "cell_type": "code",
   "execution_count": 36,
   "metadata": {
    "pycharm": {
     "name": "#%%\n"
    }
   },
   "outputs": [],
   "source": [
    "web['device_model'] = web['device_model'].apply(lambda x : \"other\" if x in others else x)"
   ]
  },
  {
   "cell_type": "code",
   "execution_count": 37,
   "metadata": {
    "pycharm": {
     "name": "#%%\n"
    }
   },
   "outputs": [
    {
     "data": {
      "text/plain": [
       "Android        127440\n",
       "Apple           42127\n",
       "Windows         29646\n",
       "samsung          4968\n",
       "xiaomi           2688\n",
       "motorola         2557\n",
       "hauwei           1909\n",
       "other             824\n",
       "oppo              647\n",
       "redmi             557\n",
       "Linux             369\n",
       "ZTE               208\n",
       "Chromium OS       141\n",
       "LG                 79\n",
       "Name: device_model, dtype: int64"
      ]
     },
     "execution_count": 37,
     "metadata": {},
     "output_type": "execute_result"
    }
   ],
   "source": [
    "web.device_model.value_counts()"
   ]
  },
  {
   "cell_type": "markdown",
   "metadata": {},
   "source": [
    "## Usuarios que reservaron"
   ]
  },
  {
   "cell_type": "markdown",
   "metadata": {
    "pycharm": {
     "name": "#%% md\n"
    }
   },
   "source": [
    "El dataframe conversión son todos los usuarios que reservaron"
   ]
  },
  {
   "cell_type": "code",
   "execution_count": 38,
   "metadata": {
    "pycharm": {
     "name": "#%%\n"
    }
   },
   "outputs": [],
   "source": [
    "conversion= web.loc[web['reserved']== 1]"
   ]
  },
  {
   "cell_type": "code",
   "execution_count": 39,
   "metadata": {
    "pycharm": {
     "name": "#%%\n"
    }
   },
   "outputs": [
    {
     "data": {
      "text/html": [
       "<div>\n",
       "<style scoped>\n",
       "    .dataframe tbody tr th:only-of-type {\n",
       "        vertical-align: middle;\n",
       "    }\n",
       "\n",
       "    .dataframe tbody tr th {\n",
       "        vertical-align: top;\n",
       "    }\n",
       "\n",
       "    .dataframe thead th {\n",
       "        text-align: right;\n",
       "    }\n",
       "</style>\n",
       "<table border=\"1\" class=\"dataframe\">\n",
       "  <thead>\n",
       "    <tr style=\"text-align: right;\">\n",
       "      <th></th>\n",
       "      <th>cantidad_de_reservas</th>\n",
       "      <th>cantidad_de_sessiones</th>\n",
       "      <th>porcentaje_de_reservas</th>\n",
       "    </tr>\n",
       "    <tr>\n",
       "      <th>mes_sesion</th>\n",
       "      <th></th>\n",
       "      <th></th>\n",
       "      <th></th>\n",
       "    </tr>\n",
       "  </thead>\n",
       "  <tbody>\n",
       "    <tr>\n",
       "      <th>1</th>\n",
       "      <td>3369.0</td>\n",
       "      <td>34064</td>\n",
       "      <td>9.890207</td>\n",
       "    </tr>\n",
       "    <tr>\n",
       "      <th>2</th>\n",
       "      <td>6249.0</td>\n",
       "      <td>70593</td>\n",
       "      <td>8.852152</td>\n",
       "    </tr>\n",
       "    <tr>\n",
       "      <th>3</th>\n",
       "      <td>5060.0</td>\n",
       "      <td>60024</td>\n",
       "      <td>8.429961</td>\n",
       "    </tr>\n",
       "    <tr>\n",
       "      <th>4</th>\n",
       "      <td>3485.0</td>\n",
       "      <td>49479</td>\n",
       "      <td>7.043392</td>\n",
       "    </tr>\n",
       "  </tbody>\n",
       "</table>\n",
       "</div>"
      ],
      "text/plain": [
       "            cantidad_de_reservas  cantidad_de_sessiones  \\\n",
       "mes_sesion                                                \n",
       "1                         3369.0                  34064   \n",
       "2                         6249.0                  70593   \n",
       "3                         5060.0                  60024   \n",
       "4                         3485.0                  49479   \n",
       "\n",
       "            porcentaje_de_reservas  \n",
       "mes_sesion                          \n",
       "1                         9.890207  \n",
       "2                         8.852152  \n",
       "3                         8.429961  \n",
       "4                         7.043392  "
      ]
     },
     "execution_count": 39,
     "metadata": {},
     "output_type": "execute_result"
    }
   ],
   "source": [
    "tasa_de_conversion=web.groupby('mes_sesion').agg(cantidad_de_reservas=('reserved','sum'),\n",
    "                                         cantidad_de_sessiones=('session_id','count'),)\n",
    "tasa_de_conversion['porcentaje_de_reservas']=tasa_de_conversion.cantidad_de_reservas/tasa_de_conversion.cantidad_de_sessiones*100\n",
    "tasa_de_conversion"
   ]
  },
  {
   "cell_type": "markdown",
   "metadata": {},
   "source": [
    "Este groupby muestra la evolución de las reservas desde enero hasta abril. Voy a graficarlo para verlo el movimiento de la linea a lo largo de los meses"
   ]
  },
  {
   "cell_type": "markdown",
   "metadata": {},
   "source": [
    "(hay usuarios que entraron al sitio por primera vez un  mes y reservaron  el siguiente mes)"
   ]
  },
  {
   "cell_type": "markdown",
   "metadata": {},
   "source": []
  },
  {
   "cell_type": "code",
   "execution_count": 40,
   "metadata": {
    "pycharm": {
     "name": "#%%\n"
    }
   },
   "outputs": [
    {
     "data": {
      "image/png": "[encoded data removed]",
      "text/plain": [
       "<Figure size 432x288 with 1 Axes>"
      ]
     },
     "metadata": {
      "needs_background": "light"
     },
     "output_type": "display_data"
    }
   ],
   "source": [
    "tasa_de_conversion.porcentaje_de_reservas.plot.line( ylim = [0, 11])\n",
    "plt.title('variacion de la tasa de conversion')\n",
    "plt.xlabel('mes del 2022')\n",
    "plt.ylabel('tasa de conversion')\n",
    "plt.xticks([1,2,3,4])\n",
    "plt.show()"
   ]
  },
  {
   "cell_type": "markdown",
   "metadata": {
    "pycharm": {
     "name": "#%% md\n"
    }
   },
   "source": [
    "## Relacion entre tiempo de pantalla y reserva"
   ]
  },
  {
   "cell_type": "code",
   "execution_count": 41,
   "metadata": {
    "pycharm": {
     "name": "#%%\n"
    }
   },
   "outputs": [],
   "source": [
    "tiempo_en_pantalla= web.groupby('user_id').agg(tiempo_total=('muinutes on screen','sum'),\n",
    "                           reserva=('reserved','sum'))"
   ]
  },
  {
   "cell_type": "markdown",
   "metadata": {
    "pycharm": {
     "name": "#%% md\n"
    }
   },
   "source": [
    "el dataframe tiempo en pantalla  esta agrupado por usuario"
   ]
  },
  {
   "cell_type": "code",
   "execution_count": 42,
   "metadata": {
    "pycharm": {
     "name": "#%%\n"
    }
   },
   "outputs": [
    {
     "data": {
      "text/html": [
       "<div>\n",
       "<style scoped>\n",
       "    .dataframe tbody tr th:only-of-type {\n",
       "        vertical-align: middle;\n",
       "    }\n",
       "\n",
       "    .dataframe tbody tr th {\n",
       "        vertical-align: top;\n",
       "    }\n",
       "\n",
       "    .dataframe thead th {\n",
       "        text-align: right;\n",
       "    }\n",
       "</style>\n",
       "<table border=\"1\" class=\"dataframe\">\n",
       "  <thead>\n",
       "    <tr style=\"text-align: right;\">\n",
       "      <th></th>\n",
       "      <th>tiempo_total</th>\n",
       "      <th>reserva</th>\n",
       "    </tr>\n",
       "    <tr>\n",
       "      <th>user_id</th>\n",
       "      <th></th>\n",
       "      <th></th>\n",
       "    </tr>\n",
       "  </thead>\n",
       "  <tbody>\n",
       "    <tr>\n",
       "      <th>104</th>\n",
       "      <td>26.866667</td>\n",
       "      <td>0.0</td>\n",
       "    </tr>\n",
       "    <tr>\n",
       "      <th>136</th>\n",
       "      <td>90.316667</td>\n",
       "      <td>1.0</td>\n",
       "    </tr>\n",
       "    <tr>\n",
       "      <th>137</th>\n",
       "      <td>37.000000</td>\n",
       "      <td>0.0</td>\n",
       "    </tr>\n",
       "    <tr>\n",
       "      <th>166</th>\n",
       "      <td>122.850000</td>\n",
       "      <td>0.0</td>\n",
       "    </tr>\n",
       "    <tr>\n",
       "      <th>201</th>\n",
       "      <td>4.483333</td>\n",
       "      <td>0.0</td>\n",
       "    </tr>\n",
       "    <tr>\n",
       "      <th>...</th>\n",
       "      <td>...</td>\n",
       "      <td>...</td>\n",
       "    </tr>\n",
       "    <tr>\n",
       "      <th>9756022</th>\n",
       "      <td>3.283333</td>\n",
       "      <td>0.0</td>\n",
       "    </tr>\n",
       "    <tr>\n",
       "      <th>9759725</th>\n",
       "      <td>59068.466667</td>\n",
       "      <td>0.0</td>\n",
       "    </tr>\n",
       "    <tr>\n",
       "      <th>9776787</th>\n",
       "      <td>1.433333</td>\n",
       "      <td>0.0</td>\n",
       "    </tr>\n",
       "    <tr>\n",
       "      <th>9790603</th>\n",
       "      <td>2938.883333</td>\n",
       "      <td>0.0</td>\n",
       "    </tr>\n",
       "    <tr>\n",
       "      <th>9856417</th>\n",
       "      <td>4.733333</td>\n",
       "      <td>0.0</td>\n",
       "    </tr>\n",
       "  </tbody>\n",
       "</table>\n",
       "<p>140084 rows × 2 columns</p>\n",
       "</div>"
      ],
      "text/plain": [
       "         tiempo_total  reserva\n",
       "user_id                       \n",
       "104         26.866667      0.0\n",
       "136         90.316667      1.0\n",
       "137         37.000000      0.0\n",
       "166        122.850000      0.0\n",
       "201          4.483333      0.0\n",
       "...               ...      ...\n",
       "9756022      3.283333      0.0\n",
       "9759725  59068.466667      0.0\n",
       "9776787      1.433333      0.0\n",
       "9790603   2938.883333      0.0\n",
       "9856417      4.733333      0.0\n",
       "\n",
       "[140084 rows x 2 columns]"
      ]
     },
     "execution_count": 42,
     "metadata": {},
     "output_type": "execute_result"
    }
   ],
   "source": [
    "tiempo_en_pantalla"
   ]
  },
  {
   "cell_type": "markdown",
   "metadata": {},
   "source": [
    "Quiero ver si el tiempo en que un usuario esta navegando en el sitio web, tiene una correlación positiva con la tasa de reserva o no."
   ]
  },
  {
   "cell_type": "code",
   "execution_count": 43,
   "metadata": {
    "pycharm": {
     "name": "#%%\n"
    }
   },
   "outputs": [],
   "source": [
    "def convirtio(x):\n",
    "    if x > 0:\n",
    "        return 1\n",
    "    else:\n",
    "        return 0\n",
    "tiempo_en_pantalla['conversion']=tiempo_en_pantalla['reserva'].apply(convirtio)"
   ]
  },
  {
   "cell_type": "code",
   "execution_count": 44,
   "metadata": {
    "pycharm": {
     "name": "#%%\n"
    }
   },
   "outputs": [
    {
     "data": {
      "text/html": [
       "<div>\n",
       "<style scoped>\n",
       "    .dataframe tbody tr th:only-of-type {\n",
       "        vertical-align: middle;\n",
       "    }\n",
       "\n",
       "    .dataframe tbody tr th {\n",
       "        vertical-align: top;\n",
       "    }\n",
       "\n",
       "    .dataframe thead th {\n",
       "        text-align: right;\n",
       "    }\n",
       "</style>\n",
       "<table border=\"1\" class=\"dataframe\">\n",
       "  <thead>\n",
       "    <tr style=\"text-align: right;\">\n",
       "      <th></th>\n",
       "      <th>tiempo_total</th>\n",
       "      <th>reserva</th>\n",
       "      <th>conversion</th>\n",
       "    </tr>\n",
       "    <tr>\n",
       "      <th>user_id</th>\n",
       "      <th></th>\n",
       "      <th></th>\n",
       "      <th></th>\n",
       "    </tr>\n",
       "  </thead>\n",
       "  <tbody>\n",
       "    <tr>\n",
       "      <th>104</th>\n",
       "      <td>26.866667</td>\n",
       "      <td>0.0</td>\n",
       "      <td>0</td>\n",
       "    </tr>\n",
       "    <tr>\n",
       "      <th>136</th>\n",
       "      <td>90.316667</td>\n",
       "      <td>1.0</td>\n",
       "      <td>1</td>\n",
       "    </tr>\n",
       "    <tr>\n",
       "      <th>137</th>\n",
       "      <td>37.000000</td>\n",
       "      <td>0.0</td>\n",
       "      <td>0</td>\n",
       "    </tr>\n",
       "    <tr>\n",
       "      <th>166</th>\n",
       "      <td>122.850000</td>\n",
       "      <td>0.0</td>\n",
       "      <td>0</td>\n",
       "    </tr>\n",
       "    <tr>\n",
       "      <th>201</th>\n",
       "      <td>4.483333</td>\n",
       "      <td>0.0</td>\n",
       "      <td>0</td>\n",
       "    </tr>\n",
       "    <tr>\n",
       "      <th>...</th>\n",
       "      <td>...</td>\n",
       "      <td>...</td>\n",
       "      <td>...</td>\n",
       "    </tr>\n",
       "    <tr>\n",
       "      <th>9756022</th>\n",
       "      <td>3.283333</td>\n",
       "      <td>0.0</td>\n",
       "      <td>0</td>\n",
       "    </tr>\n",
       "    <tr>\n",
       "      <th>9759725</th>\n",
       "      <td>59068.466667</td>\n",
       "      <td>0.0</td>\n",
       "      <td>0</td>\n",
       "    </tr>\n",
       "    <tr>\n",
       "      <th>9776787</th>\n",
       "      <td>1.433333</td>\n",
       "      <td>0.0</td>\n",
       "      <td>0</td>\n",
       "    </tr>\n",
       "    <tr>\n",
       "      <th>9790603</th>\n",
       "      <td>2938.883333</td>\n",
       "      <td>0.0</td>\n",
       "      <td>0</td>\n",
       "    </tr>\n",
       "    <tr>\n",
       "      <th>9856417</th>\n",
       "      <td>4.733333</td>\n",
       "      <td>0.0</td>\n",
       "      <td>0</td>\n",
       "    </tr>\n",
       "  </tbody>\n",
       "</table>\n",
       "<p>140084 rows × 3 columns</p>\n",
       "</div>"
      ],
      "text/plain": [
       "         tiempo_total  reserva  conversion\n",
       "user_id                                   \n",
       "104         26.866667      0.0           0\n",
       "136         90.316667      1.0           1\n",
       "137         37.000000      0.0           0\n",
       "166        122.850000      0.0           0\n",
       "201          4.483333      0.0           0\n",
       "...               ...      ...         ...\n",
       "9756022      3.283333      0.0           0\n",
       "9759725  59068.466667      0.0           0\n",
       "9776787      1.433333      0.0           0\n",
       "9790603   2938.883333      0.0           0\n",
       "9856417      4.733333      0.0           0\n",
       "\n",
       "[140084 rows x 3 columns]"
      ]
     },
     "execution_count": 44,
     "metadata": {},
     "output_type": "execute_result"
    }
   ],
   "source": [
    "tiempo_en_pantalla"
   ]
  },
  {
   "cell_type": "code",
   "execution_count": 45,
   "metadata": {
    "pycharm": {
     "name": "#%%\n"
    }
   },
   "outputs": [
    {
     "data": {
      "text/plain": [
       "<AxesSubplot:xlabel='tiempo_total', ylabel='reserva'>"
      ]
     },
     "execution_count": 45,
     "metadata": {},
     "output_type": "execute_result"
    },
    {
     "data": {
      "image/png": "[encoded data removed]",
      "text/plain": [
       "<Figure size 432x288 with 1 Axes>"
      ]
     },
     "metadata": {
      "needs_background": "light"
     },
     "output_type": "display_data"
    },
    {
     "data": {
      "image/png": "[encoded data removed]",
      "text/plain": [
       "<Figure size 432x288 with 1 Axes>"
      ]
     },
     "metadata": {
      "needs_background": "light"
     },
     "output_type": "display_data"
    }
   ],
   "source": [
    "tiempo_en_pantalla.plot.scatter(x='tiempo_total',y='conversion')\n",
    "tiempo_en_pantalla.plot.scatter(x='tiempo_total',y='reserva')"
   ]
  },
  {
   "cell_type": "markdown",
   "metadata": {
    "pycharm": {
     "name": "#%% md\n"
    }
   },
   "source": [
    "# Outliers"
   ]
  },
  {
   "cell_type": "code",
   "execution_count": 46,
   "metadata": {
    "pycharm": {
     "name": "#%%\n"
    }
   },
   "outputs": [
    {
     "data": {
      "text/html": [
       "<div>\n",
       "<style scoped>\n",
       "    .dataframe tbody tr th:only-of-type {\n",
       "        vertical-align: middle;\n",
       "    }\n",
       "\n",
       "    .dataframe tbody tr th {\n",
       "        vertical-align: top;\n",
       "    }\n",
       "\n",
       "    .dataframe thead th {\n",
       "        text-align: right;\n",
       "    }\n",
       "</style>\n",
       "<table border=\"1\" class=\"dataframe\">\n",
       "  <thead>\n",
       "    <tr style=\"text-align: right;\">\n",
       "      <th></th>\n",
       "      <th>user_id</th>\n",
       "      <th>total_events</th>\n",
       "      <th>total_vipphoto_selected</th>\n",
       "      <th>total_vip360view_selected</th>\n",
       "      <th>total_catalogfilter_selected</th>\n",
       "      <th>total_vip_viewed</th>\n",
       "      <th>total_cataloglist_viewed</th>\n",
       "      <th>total_home_viewed</th>\n",
       "      <th>total_year_selected</th>\n",
       "      <th>total_make_selected</th>\n",
       "      <th>...</th>\n",
       "      <th>total_mileage_selected</th>\n",
       "      <th>total_location_selected</th>\n",
       "      <th>total_color_selected</th>\n",
       "      <th>seconds on screen</th>\n",
       "      <th>total_sessions_prev</th>\n",
       "      <th>reserved</th>\n",
       "      <th>avg seconds on screen</th>\n",
       "      <th>mes_sesion</th>\n",
       "      <th>muinutes on screen</th>\n",
       "      <th>avg minutes on screen</th>\n",
       "    </tr>\n",
       "  </thead>\n",
       "  <tbody>\n",
       "    <tr>\n",
       "      <th>count</th>\n",
       "      <td>2.141600e+05</td>\n",
       "      <td>214160.00000</td>\n",
       "      <td>214160.000000</td>\n",
       "      <td>214160.000000</td>\n",
       "      <td>214160.000000</td>\n",
       "      <td>214160.000000</td>\n",
       "      <td>214160.000000</td>\n",
       "      <td>214160.000000</td>\n",
       "      <td>214160.000000</td>\n",
       "      <td>214160.000000</td>\n",
       "      <td>...</td>\n",
       "      <td>214160.000000</td>\n",
       "      <td>214160.000000</td>\n",
       "      <td>214160.000000</td>\n",
       "      <td>2.141600e+05</td>\n",
       "      <td>214160.000000</td>\n",
       "      <td>214160.00000</td>\n",
       "      <td>2.141600e+05</td>\n",
       "      <td>214160.000000</td>\n",
       "      <td>214160.000000</td>\n",
       "      <td>214160.000000</td>\n",
       "    </tr>\n",
       "    <tr>\n",
       "      <th>mean</th>\n",
       "      <td>7.249611e+06</td>\n",
       "      <td>136.05466</td>\n",
       "      <td>5.022619</td>\n",
       "      <td>0.549743</td>\n",
       "      <td>28.677615</td>\n",
       "      <td>25.250299</td>\n",
       "      <td>35.365283</td>\n",
       "      <td>4.779613</td>\n",
       "      <td>0.372913</td>\n",
       "      <td>0.376718</td>\n",
       "      <td>...</td>\n",
       "      <td>0.299220</td>\n",
       "      <td>0.262229</td>\n",
       "      <td>0.247086</td>\n",
       "      <td>8.518372e+04</td>\n",
       "      <td>6.660035</td>\n",
       "      <td>0.08481</td>\n",
       "      <td>9.131869e+03</td>\n",
       "      <td>2.583293</td>\n",
       "      <td>1419.728721</td>\n",
       "      <td>152.197821</td>\n",
       "    </tr>\n",
       "    <tr>\n",
       "      <th>std</th>\n",
       "      <td>2.521737e+06</td>\n",
       "      <td>406.15579</td>\n",
       "      <td>49.460406</td>\n",
       "      <td>5.033431</td>\n",
       "      <td>122.384672</td>\n",
       "      <td>81.485442</td>\n",
       "      <td>177.395937</td>\n",
       "      <td>22.261192</td>\n",
       "      <td>1.913053</td>\n",
       "      <td>1.884517</td>\n",
       "      <td>...</td>\n",
       "      <td>1.599664</td>\n",
       "      <td>1.538530</td>\n",
       "      <td>1.416469</td>\n",
       "      <td>6.172415e+05</td>\n",
       "      <td>14.556284</td>\n",
       "      <td>0.27860</td>\n",
       "      <td>9.233204e+04</td>\n",
       "      <td>1.011563</td>\n",
       "      <td>10287.358813</td>\n",
       "      <td>1538.867351</td>\n",
       "    </tr>\n",
       "    <tr>\n",
       "      <th>min</th>\n",
       "      <td>1.040000e+02</td>\n",
       "      <td>1.00000</td>\n",
       "      <td>0.000000</td>\n",
       "      <td>0.000000</td>\n",
       "      <td>0.000000</td>\n",
       "      <td>0.000000</td>\n",
       "      <td>0.000000</td>\n",
       "      <td>0.000000</td>\n",
       "      <td>0.000000</td>\n",
       "      <td>0.000000</td>\n",
       "      <td>...</td>\n",
       "      <td>0.000000</td>\n",
       "      <td>0.000000</td>\n",
       "      <td>0.000000</td>\n",
       "      <td>0.000000e+00</td>\n",
       "      <td>1.000000</td>\n",
       "      <td>0.00000</td>\n",
       "      <td>0.000000e+00</td>\n",
       "      <td>1.000000</td>\n",
       "      <td>0.000000</td>\n",
       "      <td>0.000000</td>\n",
       "    </tr>\n",
       "    <tr>\n",
       "      <th>25%</th>\n",
       "      <td>5.262605e+06</td>\n",
       "      <td>12.00000</td>\n",
       "      <td>0.000000</td>\n",
       "      <td>0.000000</td>\n",
       "      <td>0.000000</td>\n",
       "      <td>1.000000</td>\n",
       "      <td>0.000000</td>\n",
       "      <td>0.000000</td>\n",
       "      <td>0.000000</td>\n",
       "      <td>0.000000</td>\n",
       "      <td>...</td>\n",
       "      <td>0.000000</td>\n",
       "      <td>0.000000</td>\n",
       "      <td>0.000000</td>\n",
       "      <td>1.920000e+02</td>\n",
       "      <td>2.000000</td>\n",
       "      <td>0.00000</td>\n",
       "      <td>7.350000e+01</td>\n",
       "      <td>2.000000</td>\n",
       "      <td>3.200000</td>\n",
       "      <td>1.225000</td>\n",
       "    </tr>\n",
       "    <tr>\n",
       "      <th>50%</th>\n",
       "      <td>8.741507e+06</td>\n",
       "      <td>36.00000</td>\n",
       "      <td>0.000000</td>\n",
       "      <td>0.000000</td>\n",
       "      <td>2.000000</td>\n",
       "      <td>5.000000</td>\n",
       "      <td>0.000000</td>\n",
       "      <td>0.000000</td>\n",
       "      <td>0.000000</td>\n",
       "      <td>0.000000</td>\n",
       "      <td>...</td>\n",
       "      <td>0.000000</td>\n",
       "      <td>0.000000</td>\n",
       "      <td>0.000000</td>\n",
       "      <td>9.140000e+02</td>\n",
       "      <td>3.000000</td>\n",
       "      <td>0.00000</td>\n",
       "      <td>2.530000e+02</td>\n",
       "      <td>3.000000</td>\n",
       "      <td>15.233333</td>\n",
       "      <td>4.216667</td>\n",
       "    </tr>\n",
       "    <tr>\n",
       "      <th>75%</th>\n",
       "      <td>9.240933e+06</td>\n",
       "      <td>115.00000</td>\n",
       "      <td>0.000000</td>\n",
       "      <td>0.000000</td>\n",
       "      <td>18.000000</td>\n",
       "      <td>20.000000</td>\n",
       "      <td>14.000000</td>\n",
       "      <td>3.000000</td>\n",
       "      <td>0.000000</td>\n",
       "      <td>0.000000</td>\n",
       "      <td>...</td>\n",
       "      <td>0.000000</td>\n",
       "      <td>0.000000</td>\n",
       "      <td>0.000000</td>\n",
       "      <td>3.426000e+03</td>\n",
       "      <td>6.000000</td>\n",
       "      <td>0.00000</td>\n",
       "      <td>6.207297e+02</td>\n",
       "      <td>3.000000</td>\n",
       "      <td>57.100000</td>\n",
       "      <td>10.345494</td>\n",
       "    </tr>\n",
       "    <tr>\n",
       "      <th>max</th>\n",
       "      <td>9.856417e+06</td>\n",
       "      <td>39953.00000</td>\n",
       "      <td>8286.000000</td>\n",
       "      <td>694.000000</td>\n",
       "      <td>11739.000000</td>\n",
       "      <td>6743.000000</td>\n",
       "      <td>21358.000000</td>\n",
       "      <td>2546.000000</td>\n",
       "      <td>320.000000</td>\n",
       "      <td>226.000000</td>\n",
       "      <td>...</td>\n",
       "      <td>211.000000</td>\n",
       "      <td>207.000000</td>\n",
       "      <td>213.000000</td>\n",
       "      <td>1.837662e+07</td>\n",
       "      <td>1361.000000</td>\n",
       "      <td>1.00000</td>\n",
       "      <td>5.648626e+06</td>\n",
       "      <td>4.000000</td>\n",
       "      <td>306276.933333</td>\n",
       "      <td>94143.758333</td>\n",
       "    </tr>\n",
       "  </tbody>\n",
       "</table>\n",
       "<p>8 rows × 22 columns</p>\n",
       "</div>"
      ],
      "text/plain": [
       "            user_id  total_events  total_vipphoto_selected  \\\n",
       "count  2.141600e+05  214160.00000            214160.000000   \n",
       "mean   7.249611e+06     136.05466                 5.022619   \n",
       "std    2.521737e+06     406.15579                49.460406   \n",
       "min    1.040000e+02       1.00000                 0.000000   \n",
       "25%    5.262605e+06      12.00000                 0.000000   \n",
       "50%    8.741507e+06      36.00000                 0.000000   \n",
       "75%    9.240933e+06     115.00000                 0.000000   \n",
       "max    9.856417e+06   39953.00000              8286.000000   \n",
       "\n",
       "       total_vip360view_selected  total_catalogfilter_selected  \\\n",
       "count              214160.000000                 214160.000000   \n",
       "mean                    0.549743                     28.677615   \n",
       "std                     5.033431                    122.384672   \n",
       "min                     0.000000                      0.000000   \n",
       "25%                     0.000000                      0.000000   \n",
       "50%                     0.000000                      2.000000   \n",
       "75%                     0.000000                     18.000000   \n",
       "max                   694.000000                  11739.000000   \n",
       "\n",
       "       total_vip_viewed  total_cataloglist_viewed  total_home_viewed  \\\n",
       "count     214160.000000             214160.000000      214160.000000   \n",
       "mean          25.250299                 35.365283           4.779613   \n",
       "std           81.485442                177.395937          22.261192   \n",
       "min            0.000000                  0.000000           0.000000   \n",
       "25%            1.000000                  0.000000           0.000000   \n",
       "50%            5.000000                  0.000000           0.000000   \n",
       "75%           20.000000                 14.000000           3.000000   \n",
       "max         6743.000000              21358.000000        2546.000000   \n",
       "\n",
       "       total_year_selected  total_make_selected  ...  total_mileage_selected  \\\n",
       "count        214160.000000        214160.000000  ...           214160.000000   \n",
       "mean              0.372913             0.376718  ...                0.299220   \n",
       "std               1.913053             1.884517  ...                1.599664   \n",
       "min               0.000000             0.000000  ...                0.000000   \n",
       "25%               0.000000             0.000000  ...                0.000000   \n",
       "50%               0.000000             0.000000  ...                0.000000   \n",
       "75%               0.000000             0.000000  ...                0.000000   \n",
       "max             320.000000           226.000000  ...              211.000000   \n",
       "\n",
       "       total_location_selected  total_color_selected  seconds on screen  \\\n",
       "count            214160.000000         214160.000000       2.141600e+05   \n",
       "mean                  0.262229              0.247086       8.518372e+04   \n",
       "std                   1.538530              1.416469       6.172415e+05   \n",
       "min                   0.000000              0.000000       0.000000e+00   \n",
       "25%                   0.000000              0.000000       1.920000e+02   \n",
       "50%                   0.000000              0.000000       9.140000e+02   \n",
       "75%                   0.000000              0.000000       3.426000e+03   \n",
       "max                 207.000000            213.000000       1.837662e+07   \n",
       "\n",
       "       total_sessions_prev      reserved  avg seconds on screen  \\\n",
       "count        214160.000000  214160.00000           2.141600e+05   \n",
       "mean              6.660035       0.08481           9.131869e+03   \n",
       "std              14.556284       0.27860           9.233204e+04   \n",
       "min               1.000000       0.00000           0.000000e+00   \n",
       "25%               2.000000       0.00000           7.350000e+01   \n",
       "50%               3.000000       0.00000           2.530000e+02   \n",
       "75%               6.000000       0.00000           6.207297e+02   \n",
       "max            1361.000000       1.00000           5.648626e+06   \n",
       "\n",
       "          mes_sesion  muinutes on screen  avg minutes on screen  \n",
       "count  214160.000000       214160.000000          214160.000000  \n",
       "mean        2.583293         1419.728721             152.197821  \n",
       "std         1.011563        10287.358813            1538.867351  \n",
       "min         1.000000            0.000000               0.000000  \n",
       "25%         2.000000            3.200000               1.225000  \n",
       "50%         3.000000           15.233333               4.216667  \n",
       "75%         3.000000           57.100000              10.345494  \n",
       "max         4.000000       306276.933333           94143.758333  \n",
       "\n",
       "[8 rows x 22 columns]"
      ]
     },
     "execution_count": 46,
     "metadata": {},
     "output_type": "execute_result"
    }
   ],
   "source": [
    "web.describe()"
   ]
  },
  {
   "cell_type": "markdown",
   "metadata": {
    "pycharm": {
     "name": "#%% md\n"
    }
   },
   "source": [
    "Se puede ver que hay una gran diferencia entre el cuartil 3 y el cuartil 4. Se puede pensar que los valores altos son errores del sistema o bots.Por lo tanto, voy a crear un dataframe filtado que no contenga outliers irreales.\n",
    "Al haber una gran cantidad de columnas que necesitan un analisis de outliers , voy a crear una sección para cada una y analizarla antes y despues del filtrado de outlier.\n"
   ]
  },
  {
   "cell_type": "code",
   "execution_count": 47,
   "metadata": {
    "pycharm": {
     "name": "#%%\n"
    }
   },
   "outputs": [],
   "source": [
    "from functions import valor_atipico"
   ]
  },
  {
   "cell_type": "markdown",
   "metadata": {
    "pycharm": {
     "name": "#%% md\n"
    }
   },
   "source": [
    "Tenía la idea de usar esta formula de valor outlier pero como hay muchos eventos cuyo tercer quartil es 0, voy a analizar todos los eventos juntos y aparte del resto de las variables"
   ]
  },
  {
   "cell_type": "markdown",
   "metadata": {
    "pycharm": {
     "name": "#%% md\n"
    }
   },
   "source": [
    "## Eventos"
   ]
  },
  {
   "cell_type": "code",
   "execution_count": 48,
   "metadata": {
    "pycharm": {
     "name": "#%%\n"
    }
   },
   "outputs": [],
   "source": [
    "eventos=['total_cataloglist_viewed','total_catalogfilter_selected','total_home_viewed','total_vip360view_selected','total_color_selected','total_location_selected','total_make_selected','total_mileage_selected','total_version_selected','total_vip_viewed','total_vipphoto_selected','total_year_selected','total_model_selected']\n"
   ]
  },
  {
   "cell_type": "code",
   "execution_count": 49,
   "metadata": {
    "pycharm": {
     "name": "#%%\n"
    }
   },
   "outputs": [
    {
     "data": {
      "text/html": [
       "<div>\n",
       "<style scoped>\n",
       "    .dataframe tbody tr th:only-of-type {\n",
       "        vertical-align: middle;\n",
       "    }\n",
       "\n",
       "    .dataframe tbody tr th {\n",
       "        vertical-align: top;\n",
       "    }\n",
       "\n",
       "    .dataframe thead th {\n",
       "        text-align: right;\n",
       "    }\n",
       "</style>\n",
       "<table border=\"1\" class=\"dataframe\">\n",
       "  <thead>\n",
       "    <tr style=\"text-align: right;\">\n",
       "      <th></th>\n",
       "      <th>total_cataloglist_viewed</th>\n",
       "      <th>total_catalogfilter_selected</th>\n",
       "      <th>total_home_viewed</th>\n",
       "      <th>total_vip360view_selected</th>\n",
       "      <th>total_color_selected</th>\n",
       "      <th>total_location_selected</th>\n",
       "      <th>total_make_selected</th>\n",
       "      <th>total_mileage_selected</th>\n",
       "      <th>total_version_selected</th>\n",
       "      <th>total_vip_viewed</th>\n",
       "      <th>total_vipphoto_selected</th>\n",
       "      <th>total_year_selected</th>\n",
       "      <th>total_model_selected</th>\n",
       "    </tr>\n",
       "  </thead>\n",
       "  <tbody>\n",
       "    <tr>\n",
       "      <th>count</th>\n",
       "      <td>214160.000000</td>\n",
       "      <td>214160.000000</td>\n",
       "      <td>214160.000000</td>\n",
       "      <td>214160.000000</td>\n",
       "      <td>214160.000000</td>\n",
       "      <td>214160.000000</td>\n",
       "      <td>214160.000000</td>\n",
       "      <td>214160.000000</td>\n",
       "      <td>214160.000000</td>\n",
       "      <td>214160.000000</td>\n",
       "      <td>214160.000000</td>\n",
       "      <td>214160.000000</td>\n",
       "      <td>214160.000000</td>\n",
       "    </tr>\n",
       "    <tr>\n",
       "      <th>mean</th>\n",
       "      <td>35.365283</td>\n",
       "      <td>28.677615</td>\n",
       "      <td>4.779613</td>\n",
       "      <td>0.549743</td>\n",
       "      <td>0.247086</td>\n",
       "      <td>0.262229</td>\n",
       "      <td>0.376718</td>\n",
       "      <td>0.299220</td>\n",
       "      <td>0.324351</td>\n",
       "      <td>25.250299</td>\n",
       "      <td>5.022619</td>\n",
       "      <td>0.372913</td>\n",
       "      <td>0.339470</td>\n",
       "    </tr>\n",
       "    <tr>\n",
       "      <th>std</th>\n",
       "      <td>177.395937</td>\n",
       "      <td>122.384672</td>\n",
       "      <td>22.261192</td>\n",
       "      <td>5.033431</td>\n",
       "      <td>1.416469</td>\n",
       "      <td>1.538530</td>\n",
       "      <td>1.884517</td>\n",
       "      <td>1.599664</td>\n",
       "      <td>1.657433</td>\n",
       "      <td>81.485442</td>\n",
       "      <td>49.460406</td>\n",
       "      <td>1.913053</td>\n",
       "      <td>1.705465</td>\n",
       "    </tr>\n",
       "    <tr>\n",
       "      <th>min</th>\n",
       "      <td>0.000000</td>\n",
       "      <td>0.000000</td>\n",
       "      <td>0.000000</td>\n",
       "      <td>0.000000</td>\n",
       "      <td>0.000000</td>\n",
       "      <td>0.000000</td>\n",
       "      <td>0.000000</td>\n",
       "      <td>0.000000</td>\n",
       "      <td>0.000000</td>\n",
       "      <td>0.000000</td>\n",
       "      <td>0.000000</td>\n",
       "      <td>0.000000</td>\n",
       "      <td>0.000000</td>\n",
       "    </tr>\n",
       "    <tr>\n",
       "      <th>25%</th>\n",
       "      <td>0.000000</td>\n",
       "      <td>0.000000</td>\n",
       "      <td>0.000000</td>\n",
       "      <td>0.000000</td>\n",
       "      <td>0.000000</td>\n",
       "      <td>0.000000</td>\n",
       "      <td>0.000000</td>\n",
       "      <td>0.000000</td>\n",
       "      <td>0.000000</td>\n",
       "      <td>1.000000</td>\n",
       "      <td>0.000000</td>\n",
       "      <td>0.000000</td>\n",
       "      <td>0.000000</td>\n",
       "    </tr>\n",
       "    <tr>\n",
       "      <th>50%</th>\n",
       "      <td>0.000000</td>\n",
       "      <td>2.000000</td>\n",
       "      <td>0.000000</td>\n",
       "      <td>0.000000</td>\n",
       "      <td>0.000000</td>\n",
       "      <td>0.000000</td>\n",
       "      <td>0.000000</td>\n",
       "      <td>0.000000</td>\n",
       "      <td>0.000000</td>\n",
       "      <td>5.000000</td>\n",
       "      <td>0.000000</td>\n",
       "      <td>0.000000</td>\n",
       "      <td>0.000000</td>\n",
       "    </tr>\n",
       "    <tr>\n",
       "      <th>75%</th>\n",
       "      <td>14.000000</td>\n",
       "      <td>18.000000</td>\n",
       "      <td>3.000000</td>\n",
       "      <td>0.000000</td>\n",
       "      <td>0.000000</td>\n",
       "      <td>0.000000</td>\n",
       "      <td>0.000000</td>\n",
       "      <td>0.000000</td>\n",
       "      <td>0.000000</td>\n",
       "      <td>20.000000</td>\n",
       "      <td>0.000000</td>\n",
       "      <td>0.000000</td>\n",
       "      <td>0.000000</td>\n",
       "    </tr>\n",
       "    <tr>\n",
       "      <th>max</th>\n",
       "      <td>21358.000000</td>\n",
       "      <td>11739.000000</td>\n",
       "      <td>2546.000000</td>\n",
       "      <td>694.000000</td>\n",
       "      <td>213.000000</td>\n",
       "      <td>207.000000</td>\n",
       "      <td>226.000000</td>\n",
       "      <td>211.000000</td>\n",
       "      <td>223.000000</td>\n",
       "      <td>6743.000000</td>\n",
       "      <td>8286.000000</td>\n",
       "      <td>320.000000</td>\n",
       "      <td>223.000000</td>\n",
       "    </tr>\n",
       "  </tbody>\n",
       "</table>\n",
       "</div>"
      ],
      "text/plain": [
       "       total_cataloglist_viewed  total_catalogfilter_selected  \\\n",
       "count             214160.000000                 214160.000000   \n",
       "mean                  35.365283                     28.677615   \n",
       "std                  177.395937                    122.384672   \n",
       "min                    0.000000                      0.000000   \n",
       "25%                    0.000000                      0.000000   \n",
       "50%                    0.000000                      2.000000   \n",
       "75%                   14.000000                     18.000000   \n",
       "max                21358.000000                  11739.000000   \n",
       "\n",
       "       total_home_viewed  total_vip360view_selected  total_color_selected  \\\n",
       "count      214160.000000              214160.000000         214160.000000   \n",
       "mean            4.779613                   0.549743              0.247086   \n",
       "std            22.261192                   5.033431              1.416469   \n",
       "min             0.000000                   0.000000              0.000000   \n",
       "25%             0.000000                   0.000000              0.000000   \n",
       "50%             0.000000                   0.000000              0.000000   \n",
       "75%             3.000000                   0.000000              0.000000   \n",
       "max          2546.000000                 694.000000            213.000000   \n",
       "\n",
       "       total_location_selected  total_make_selected  total_mileage_selected  \\\n",
       "count            214160.000000        214160.000000           214160.000000   \n",
       "mean                  0.262229             0.376718                0.299220   \n",
       "std                   1.538530             1.884517                1.599664   \n",
       "min                   0.000000             0.000000                0.000000   \n",
       "25%                   0.000000             0.000000                0.000000   \n",
       "50%                   0.000000             0.000000                0.000000   \n",
       "75%                   0.000000             0.000000                0.000000   \n",
       "max                 207.000000           226.000000              211.000000   \n",
       "\n",
       "       total_version_selected  total_vip_viewed  total_vipphoto_selected  \\\n",
       "count           214160.000000     214160.000000            214160.000000   \n",
       "mean                 0.324351         25.250299                 5.022619   \n",
       "std                  1.657433         81.485442                49.460406   \n",
       "min                  0.000000          0.000000                 0.000000   \n",
       "25%                  0.000000          1.000000                 0.000000   \n",
       "50%                  0.000000          5.000000                 0.000000   \n",
       "75%                  0.000000         20.000000                 0.000000   \n",
       "max                223.000000       6743.000000              8286.000000   \n",
       "\n",
       "       total_year_selected  total_model_selected  \n",
       "count        214160.000000         214160.000000  \n",
       "mean              0.372913              0.339470  \n",
       "std               1.913053              1.705465  \n",
       "min               0.000000              0.000000  \n",
       "25%               0.000000              0.000000  \n",
       "50%               0.000000              0.000000  \n",
       "75%               0.000000              0.000000  \n",
       "max             320.000000            223.000000  "
      ]
     },
     "execution_count": 49,
     "metadata": {},
     "output_type": "execute_result"
    }
   ],
   "source": [
    "eventos_estadisticas=web[[*eventos]].describe()\n",
    "eventos_estadisticas"
   ]
  },
  {
   "cell_type": "code",
   "execution_count": 50,
   "metadata": {
    "pycharm": {
     "name": "#%%\n"
    }
   },
   "outputs": [
    {
     "data": {
      "text/plain": [
       "20.0"
      ]
     },
     "execution_count": 50,
     "metadata": {},
     "output_type": "execute_result"
    }
   ],
   "source": [
    "eventos_estadisticas.loc['75%'].max()"
   ]
  },
  {
   "cell_type": "markdown",
   "metadata": {
    "pycharm": {
     "name": "#%% md\n"
    }
   },
   "source": [
    "Siendo 20 el valor mas grande de un tercer cuartil , voy a tomarlo como maximo para todos los eventos.Aquellos eventos que superen 20 interacciones no van a ser tomados en cuenta para el modelo."
   ]
  },
  {
   "cell_type": "code",
   "execution_count": 51,
   "metadata": {
    "pycharm": {
     "name": "#%%\n"
    }
   },
   "outputs": [],
   "source": [
    "for i in eventos:\n",
    "   web=web.loc[web[i] <=20]\n"
   ]
  },
  {
   "cell_type": "markdown",
   "metadata": {
    "pycharm": {
     "name": "#%% md\n"
    }
   },
   "source": [
    "los eventos tienen como valor maximo 20"
   ]
  },
  {
   "cell_type": "code",
   "execution_count": 52,
   "metadata": {
    "pycharm": {
     "name": "#%%\n"
    }
   },
   "outputs": [
    {
     "data": {
      "text/html": [
       "<div>\n",
       "<style scoped>\n",
       "    .dataframe tbody tr th:only-of-type {\n",
       "        vertical-align: middle;\n",
       "    }\n",
       "\n",
       "    .dataframe tbody tr th {\n",
       "        vertical-align: top;\n",
       "    }\n",
       "\n",
       "    .dataframe thead th {\n",
       "        text-align: right;\n",
       "    }\n",
       "</style>\n",
       "<table border=\"1\" class=\"dataframe\">\n",
       "  <thead>\n",
       "    <tr style=\"text-align: right;\">\n",
       "      <th></th>\n",
       "      <th>user_id</th>\n",
       "      <th>total_events</th>\n",
       "      <th>total_vipphoto_selected</th>\n",
       "      <th>total_vip360view_selected</th>\n",
       "      <th>total_catalogfilter_selected</th>\n",
       "      <th>total_vip_viewed</th>\n",
       "      <th>total_cataloglist_viewed</th>\n",
       "      <th>total_home_viewed</th>\n",
       "      <th>total_year_selected</th>\n",
       "      <th>total_make_selected</th>\n",
       "      <th>...</th>\n",
       "      <th>total_mileage_selected</th>\n",
       "      <th>total_location_selected</th>\n",
       "      <th>total_color_selected</th>\n",
       "      <th>seconds on screen</th>\n",
       "      <th>total_sessions_prev</th>\n",
       "      <th>reserved</th>\n",
       "      <th>avg seconds on screen</th>\n",
       "      <th>mes_sesion</th>\n",
       "      <th>muinutes on screen</th>\n",
       "      <th>avg minutes on screen</th>\n",
       "    </tr>\n",
       "  </thead>\n",
       "  <tbody>\n",
       "    <tr>\n",
       "      <th>count</th>\n",
       "      <td>1.335920e+05</td>\n",
       "      <td>133592.000000</td>\n",
       "      <td>133592.000000</td>\n",
       "      <td>133592.000000</td>\n",
       "      <td>133592.000000</td>\n",
       "      <td>133592.000000</td>\n",
       "      <td>133592.000000</td>\n",
       "      <td>133592.000000</td>\n",
       "      <td>133592.000000</td>\n",
       "      <td>133592.000000</td>\n",
       "      <td>...</td>\n",
       "      <td>133592.000000</td>\n",
       "      <td>133592.000000</td>\n",
       "      <td>133592.000000</td>\n",
       "      <td>1.335920e+05</td>\n",
       "      <td>133592.000000</td>\n",
       "      <td>133592.000000</td>\n",
       "      <td>1.335920e+05</td>\n",
       "      <td>133592.000000</td>\n",
       "      <td>133592.000000</td>\n",
       "      <td>133592.000000</td>\n",
       "    </tr>\n",
       "    <tr>\n",
       "      <th>mean</th>\n",
       "      <td>7.383556e+06</td>\n",
       "      <td>24.294703</td>\n",
       "      <td>0.217992</td>\n",
       "      <td>0.105283</td>\n",
       "      <td>1.996684</td>\n",
       "      <td>3.755494</td>\n",
       "      <td>1.874192</td>\n",
       "      <td>0.803416</td>\n",
       "      <td>0.213067</td>\n",
       "      <td>0.210589</td>\n",
       "      <td>...</td>\n",
       "      <td>0.164606</td>\n",
       "      <td>0.135046</td>\n",
       "      <td>0.141161</td>\n",
       "      <td>2.052985e+04</td>\n",
       "      <td>3.190550</td>\n",
       "      <td>0.061920</td>\n",
       "      <td>4.947781e+03</td>\n",
       "      <td>2.470769</td>\n",
       "      <td>342.164111</td>\n",
       "      <td>82.463011</td>\n",
       "    </tr>\n",
       "    <tr>\n",
       "      <th>std</th>\n",
       "      <td>2.455781e+06</td>\n",
       "      <td>30.091997</td>\n",
       "      <td>1.563175</td>\n",
       "      <td>0.520052</td>\n",
       "      <td>3.807985</td>\n",
       "      <td>4.633768</td>\n",
       "      <td>4.294831</td>\n",
       "      <td>1.865288</td>\n",
       "      <td>0.770356</td>\n",
       "      <td>0.798559</td>\n",
       "      <td>...</td>\n",
       "      <td>0.654614</td>\n",
       "      <td>0.595202</td>\n",
       "      <td>0.594002</td>\n",
       "      <td>2.803831e+05</td>\n",
       "      <td>3.076556</td>\n",
       "      <td>0.241011</td>\n",
       "      <td>7.720861e+04</td>\n",
       "      <td>1.027195</td>\n",
       "      <td>4673.052181</td>\n",
       "      <td>1286.810215</td>\n",
       "    </tr>\n",
       "    <tr>\n",
       "      <th>min</th>\n",
       "      <td>1.360000e+02</td>\n",
       "      <td>1.000000</td>\n",
       "      <td>0.000000</td>\n",
       "      <td>0.000000</td>\n",
       "      <td>0.000000</td>\n",
       "      <td>0.000000</td>\n",
       "      <td>0.000000</td>\n",
       "      <td>0.000000</td>\n",
       "      <td>0.000000</td>\n",
       "      <td>0.000000</td>\n",
       "      <td>...</td>\n",
       "      <td>0.000000</td>\n",
       "      <td>0.000000</td>\n",
       "      <td>0.000000</td>\n",
       "      <td>0.000000e+00</td>\n",
       "      <td>1.000000</td>\n",
       "      <td>0.000000</td>\n",
       "      <td>0.000000e+00</td>\n",
       "      <td>1.000000</td>\n",
       "      <td>0.000000</td>\n",
       "      <td>0.000000</td>\n",
       "    </tr>\n",
       "    <tr>\n",
       "      <th>25%</th>\n",
       "      <td>5.424992e+06</td>\n",
       "      <td>6.000000</td>\n",
       "      <td>0.000000</td>\n",
       "      <td>0.000000</td>\n",
       "      <td>0.000000</td>\n",
       "      <td>0.000000</td>\n",
       "      <td>0.000000</td>\n",
       "      <td>0.000000</td>\n",
       "      <td>0.000000</td>\n",
       "      <td>0.000000</td>\n",
       "      <td>...</td>\n",
       "      <td>0.000000</td>\n",
       "      <td>0.000000</td>\n",
       "      <td>0.000000</td>\n",
       "      <td>7.000000e+01</td>\n",
       "      <td>2.000000</td>\n",
       "      <td>0.000000</td>\n",
       "      <td>3.000000e+01</td>\n",
       "      <td>2.000000</td>\n",
       "      <td>1.166667</td>\n",
       "      <td>0.500000</td>\n",
       "    </tr>\n",
       "    <tr>\n",
       "      <th>50%</th>\n",
       "      <td>8.793162e+06</td>\n",
       "      <td>16.000000</td>\n",
       "      <td>0.000000</td>\n",
       "      <td>0.000000</td>\n",
       "      <td>0.000000</td>\n",
       "      <td>2.000000</td>\n",
       "      <td>0.000000</td>\n",
       "      <td>0.000000</td>\n",
       "      <td>0.000000</td>\n",
       "      <td>0.000000</td>\n",
       "      <td>...</td>\n",
       "      <td>0.000000</td>\n",
       "      <td>0.000000</td>\n",
       "      <td>0.000000</td>\n",
       "      <td>3.210000e+02</td>\n",
       "      <td>2.000000</td>\n",
       "      <td>0.000000</td>\n",
       "      <td>1.169583e+02</td>\n",
       "      <td>2.000000</td>\n",
       "      <td>5.350000</td>\n",
       "      <td>1.949306</td>\n",
       "    </tr>\n",
       "    <tr>\n",
       "      <th>75%</th>\n",
       "      <td>9.247061e+06</td>\n",
       "      <td>32.000000</td>\n",
       "      <td>0.000000</td>\n",
       "      <td>0.000000</td>\n",
       "      <td>2.000000</td>\n",
       "      <td>6.000000</td>\n",
       "      <td>1.000000</td>\n",
       "      <td>1.000000</td>\n",
       "      <td>0.000000</td>\n",
       "      <td>0.000000</td>\n",
       "      <td>...</td>\n",
       "      <td>0.000000</td>\n",
       "      <td>0.000000</td>\n",
       "      <td>0.000000</td>\n",
       "      <td>9.580000e+02</td>\n",
       "      <td>3.000000</td>\n",
       "      <td>0.000000</td>\n",
       "      <td>2.985000e+02</td>\n",
       "      <td>3.000000</td>\n",
       "      <td>15.966667</td>\n",
       "      <td>4.975000</td>\n",
       "    </tr>\n",
       "    <tr>\n",
       "      <th>max</th>\n",
       "      <td>9.856417e+06</td>\n",
       "      <td>832.000000</td>\n",
       "      <td>20.000000</td>\n",
       "      <td>20.000000</td>\n",
       "      <td>20.000000</td>\n",
       "      <td>20.000000</td>\n",
       "      <td>20.000000</td>\n",
       "      <td>20.000000</td>\n",
       "      <td>20.000000</td>\n",
       "      <td>20.000000</td>\n",
       "      <td>...</td>\n",
       "      <td>20.000000</td>\n",
       "      <td>18.000000</td>\n",
       "      <td>20.000000</td>\n",
       "      <td>1.129725e+07</td>\n",
       "      <td>68.000000</td>\n",
       "      <td>1.000000</td>\n",
       "      <td>5.648626e+06</td>\n",
       "      <td>4.000000</td>\n",
       "      <td>188287.516667</td>\n",
       "      <td>94143.758333</td>\n",
       "    </tr>\n",
       "  </tbody>\n",
       "</table>\n",
       "<p>8 rows × 22 columns</p>\n",
       "</div>"
      ],
      "text/plain": [
       "            user_id   total_events  total_vipphoto_selected  \\\n",
       "count  1.335920e+05  133592.000000            133592.000000   \n",
       "mean   7.383556e+06      24.294703                 0.217992   \n",
       "std    2.455781e+06      30.091997                 1.563175   \n",
       "min    1.360000e+02       1.000000                 0.000000   \n",
       "25%    5.424992e+06       6.000000                 0.000000   \n",
       "50%    8.793162e+06      16.000000                 0.000000   \n",
       "75%    9.247061e+06      32.000000                 0.000000   \n",
       "max    9.856417e+06     832.000000                20.000000   \n",
       "\n",
       "       total_vip360view_selected  total_catalogfilter_selected  \\\n",
       "count              133592.000000                 133592.000000   \n",
       "mean                    0.105283                      1.996684   \n",
       "std                     0.520052                      3.807985   \n",
       "min                     0.000000                      0.000000   \n",
       "25%                     0.000000                      0.000000   \n",
       "50%                     0.000000                      0.000000   \n",
       "75%                     0.000000                      2.000000   \n",
       "max                    20.000000                     20.000000   \n",
       "\n",
       "       total_vip_viewed  total_cataloglist_viewed  total_home_viewed  \\\n",
       "count     133592.000000             133592.000000      133592.000000   \n",
       "mean           3.755494                  1.874192           0.803416   \n",
       "std            4.633768                  4.294831           1.865288   \n",
       "min            0.000000                  0.000000           0.000000   \n",
       "25%            0.000000                  0.000000           0.000000   \n",
       "50%            2.000000                  0.000000           0.000000   \n",
       "75%            6.000000                  1.000000           1.000000   \n",
       "max           20.000000                 20.000000          20.000000   \n",
       "\n",
       "       total_year_selected  total_make_selected  ...  total_mileage_selected  \\\n",
       "count        133592.000000        133592.000000  ...           133592.000000   \n",
       "mean              0.213067             0.210589  ...                0.164606   \n",
       "std               0.770356             0.798559  ...                0.654614   \n",
       "min               0.000000             0.000000  ...                0.000000   \n",
       "25%               0.000000             0.000000  ...                0.000000   \n",
       "50%               0.000000             0.000000  ...                0.000000   \n",
       "75%               0.000000             0.000000  ...                0.000000   \n",
       "max              20.000000            20.000000  ...               20.000000   \n",
       "\n",
       "       total_location_selected  total_color_selected  seconds on screen  \\\n",
       "count            133592.000000         133592.000000       1.335920e+05   \n",
       "mean                  0.135046              0.141161       2.052985e+04   \n",
       "std                   0.595202              0.594002       2.803831e+05   \n",
       "min                   0.000000              0.000000       0.000000e+00   \n",
       "25%                   0.000000              0.000000       7.000000e+01   \n",
       "50%                   0.000000              0.000000       3.210000e+02   \n",
       "75%                   0.000000              0.000000       9.580000e+02   \n",
       "max                  18.000000             20.000000       1.129725e+07   \n",
       "\n",
       "       total_sessions_prev       reserved  avg seconds on screen  \\\n",
       "count        133592.000000  133592.000000           1.335920e+05   \n",
       "mean              3.190550       0.061920           4.947781e+03   \n",
       "std               3.076556       0.241011           7.720861e+04   \n",
       "min               1.000000       0.000000           0.000000e+00   \n",
       "25%               2.000000       0.000000           3.000000e+01   \n",
       "50%               2.000000       0.000000           1.169583e+02   \n",
       "75%               3.000000       0.000000           2.985000e+02   \n",
       "max              68.000000       1.000000           5.648626e+06   \n",
       "\n",
       "          mes_sesion  muinutes on screen  avg minutes on screen  \n",
       "count  133592.000000       133592.000000          133592.000000  \n",
       "mean        2.470769          342.164111              82.463011  \n",
       "std         1.027195         4673.052181            1286.810215  \n",
       "min         1.000000            0.000000               0.000000  \n",
       "25%         2.000000            1.166667               0.500000  \n",
       "50%         2.000000            5.350000               1.949306  \n",
       "75%         3.000000           15.966667               4.975000  \n",
       "max         4.000000       188287.516667           94143.758333  \n",
       "\n",
       "[8 rows x 22 columns]"
      ]
     },
     "execution_count": 52,
     "metadata": {},
     "output_type": "execute_result"
    }
   ],
   "source": [
    "web.describe()"
   ]
  },
  {
   "cell_type": "markdown",
   "metadata": {
    "pycharm": {
     "name": "#%% md\n"
    }
   },
   "source": [
    "Ahora, analizo las variables que no son eventos por separado"
   ]
  },
  {
   "cell_type": "markdown",
   "metadata": {
    "pycharm": {
     "name": "#%% md\n"
    }
   },
   "source": [
    "## Total Events"
   ]
  },
  {
   "cell_type": "code",
   "execution_count": 53,
   "metadata": {
    "pycharm": {
     "name": "#%%\n"
    }
   },
   "outputs": [
    {
     "data": {
      "text/plain": [
       "<AxesSubplot:ylabel='total_events'>"
      ]
     },
     "execution_count": 53,
     "metadata": {},
     "output_type": "execute_result"
    },
    {
     "data": {
      "image/png": "[encoded data removed]",
      "text/plain": [
       "<Figure size 432x288 with 1 Axes>"
      ]
     },
     "metadata": {
      "needs_background": "light"
     },
     "output_type": "display_data"
    }
   ],
   "source": [
    "sns.boxplot(data = web, y = 'total_events')"
   ]
  },
  {
   "cell_type": "code",
   "execution_count": 54,
   "metadata": {
    "pycharm": {
     "name": "#%%\n"
    }
   },
   "outputs": [
    {
     "data": {
      "text/plain": [
       "2      10247\n",
       "4       8089\n",
       "1       5242\n",
       "6       5133\n",
       "8       4969\n",
       "       ...  \n",
       "302        1\n",
       "628        1\n",
       "444        1\n",
       "400        1\n",
       "564        1\n",
       "Name: total_events, Length: 401, dtype: int64"
      ]
     },
     "execution_count": 54,
     "metadata": {},
     "output_type": "execute_result"
    }
   ],
   "source": [
    "web.total_events.value_counts()"
   ]
  },
  {
   "cell_type": "code",
   "execution_count": 55,
   "metadata": {
    "pycharm": {
     "name": "#%%\n"
    }
   },
   "outputs": [],
   "source": [
    "web= web.loc[web.total_events<valor_atipico(web,'total_events')]"
   ]
  },
  {
   "cell_type": "markdown",
   "metadata": {
    "pycharm": {
     "name": "#%% md\n"
    }
   },
   "source": [
    " calcule el valor atípico de total_events y filtre el dataset"
   ]
  },
  {
   "cell_type": "code",
   "execution_count": 56,
   "metadata": {
    "pycharm": {
     "name": "#%%\n"
    }
   },
   "outputs": [
    {
     "data": {
      "text/plain": [
       "count    126149.000000\n",
       "mean         19.098629\n",
       "std          16.304413\n",
       "min           1.000000\n",
       "25%           6.000000\n",
       "50%          14.000000\n",
       "75%          28.000000\n",
       "max          70.000000\n",
       "Name: total_events, dtype: float64"
      ]
     },
     "execution_count": 56,
     "metadata": {},
     "output_type": "execute_result"
    }
   ],
   "source": [
    "web.total_events.describe()"
   ]
  },
  {
   "cell_type": "markdown",
   "metadata": {
    "pycharm": {
     "name": "#%% md\n"
    }
   },
   "source": [
    "## Seconds on screen\n"
   ]
  },
  {
   "cell_type": "code",
   "execution_count": 57,
   "metadata": {
    "pycharm": {
     "name": "#%%\n"
    }
   },
   "outputs": [
    {
     "data": {
      "text/plain": [
       "<AxesSubplot:ylabel='seconds on screen'>"
      ]
     },
     "execution_count": 57,
     "metadata": {},
     "output_type": "execute_result"
    },
    {
     "data": {
      "image/png": "[encoded data removed]",
      "text/plain": [
       "<Figure size 432x288 with 1 Axes>"
      ]
     },
     "metadata": {
      "needs_background": "light"
     },
     "output_type": "display_data"
    }
   ],
   "source": [
    "sns.boxplot(data=web,y='seconds on screen')"
   ]
  },
  {
   "cell_type": "code",
   "execution_count": 58,
   "metadata": {
    "pycharm": {
     "name": "#%%\n"
    }
   },
   "outputs": [
    {
     "data": {
      "text/plain": [
       "0.0        13133\n",
       "1.0         3205\n",
       "2.0         1456\n",
       "3.0         1195\n",
       "4.0          527\n",
       "           ...  \n",
       "3518.0         1\n",
       "15625.0        1\n",
       "4626.0         1\n",
       "5285.0         1\n",
       "6981.0         1\n",
       "Name: seconds on screen, Length: 6456, dtype: int64"
      ]
     },
     "execution_count": 58,
     "metadata": {},
     "output_type": "execute_result"
    }
   ],
   "source": [
    "web['seconds on screen'].value_counts()"
   ]
  },
  {
   "cell_type": "code",
   "execution_count": 59,
   "metadata": {
    "pycharm": {
     "name": "#%%\n"
    }
   },
   "outputs": [],
   "source": [
    "web=web.loc[web['seconds on screen']<valor_atipico(web,'seconds on screen')]"
   ]
  },
  {
   "cell_type": "code",
   "execution_count": 60,
   "metadata": {
    "pycharm": {
     "name": "#%%\n"
    }
   },
   "outputs": [
    {
     "data": {
      "text/plain": [
       "count    115160.0\n",
       "mean        407.0\n",
       "std         463.0\n",
       "min           0.0\n",
       "25%          47.0\n",
       "50%         232.0\n",
       "75%         614.0\n",
       "max        1932.0\n",
       "Name: seconds on screen, dtype: float64"
      ]
     },
     "execution_count": 60,
     "metadata": {},
     "output_type": "execute_result"
    }
   ],
   "source": [
    "web['seconds on screen'].describe().round()"
   ]
  },
  {
   "cell_type": "markdown",
   "metadata": {
    "pycharm": {
     "name": "#%% md\n"
    }
   },
   "source": [
    "minutes on screen deriva de seconds on screen por lo que se ajusta aca tambien"
   ]
  },
  {
   "cell_type": "markdown",
   "metadata": {
    "pycharm": {
     "name": "#%% md\n"
    }
   },
   "source": [
    "## Average seconds on screen"
   ]
  },
  {
   "cell_type": "code",
   "execution_count": 61,
   "metadata": {
    "pycharm": {
     "name": "#%%\n"
    }
   },
   "outputs": [
    {
     "data": {
      "text/plain": [
       "<AxesSubplot:ylabel='avg seconds on screen'>"
      ]
     },
     "execution_count": 61,
     "metadata": {},
     "output_type": "execute_result"
    },
    {
     "data": {
      "image/png": "[encoded data removed]",
      "text/plain": [
       "<Figure size 432x288 with 1 Axes>"
      ]
     },
     "metadata": {
      "needs_background": "light"
     },
     "output_type": "display_data"
    }
   ],
   "source": [
    "sns.boxplot(data=web,y='avg seconds on screen')"
   ]
  },
  {
   "cell_type": "code",
   "execution_count": 62,
   "metadata": {
    "pycharm": {
     "name": "#%%\n"
    }
   },
   "outputs": [
    {
     "data": {
      "text/plain": [
       "0.000000      13133\n",
       "0.500000       3205\n",
       "1.000000       1224\n",
       "1.500000       1056\n",
       "2.000000        491\n",
       "              ...  \n",
       "50.636364         1\n",
       "10.625000         1\n",
       "45.625000         1\n",
       "129.300000        1\n",
       "838.000000        1\n",
       "Name: avg seconds on screen, Length: 7410, dtype: int64"
      ]
     },
     "execution_count": 62,
     "metadata": {},
     "output_type": "execute_result"
    }
   ],
   "source": [
    "web['avg seconds on screen'].value_counts()"
   ]
  },
  {
   "cell_type": "code",
   "execution_count": 63,
   "metadata": {
    "pycharm": {
     "name": "#%%\n"
    }
   },
   "outputs": [],
   "source": [
    "web=web.loc[web['avg seconds on screen'] <valor_atipico(web,'avg seconds on screen')]"
   ]
  },
  {
   "cell_type": "code",
   "execution_count": 64,
   "metadata": {
    "pycharm": {
     "name": "#%%\n"
    }
   },
   "outputs": [
    {
     "data": {
      "text/plain": [
       "count    108832.000000\n",
       "mean        117.523420\n",
       "std         120.367540\n",
       "min           0.000000\n",
       "25%          17.500000\n",
       "50%          79.500000\n",
       "75%         182.333333\n",
       "max         492.666667\n",
       "Name: avg seconds on screen, dtype: float64"
      ]
     },
     "execution_count": 64,
     "metadata": {},
     "output_type": "execute_result"
    }
   ],
   "source": [
    "web['avg seconds on screen'].describe()"
   ]
  },
  {
   "cell_type": "markdown",
   "metadata": {
    "pycharm": {
     "name": "#%% md\n"
    }
   },
   "source": [
    "Lo mismo sucede con avg minutes on screen, que depende de avg seconds on screen"
   ]
  },
  {
   "cell_type": "markdown",
   "metadata": {
    "pycharm": {
     "name": "#%% md\n"
    }
   },
   "source": [
    "## Total sessions Prev"
   ]
  },
  {
   "cell_type": "code",
   "execution_count": 65,
   "metadata": {
    "pycharm": {
     "name": "#%%\n"
    }
   },
   "outputs": [
    {
     "data": {
      "text/plain": [
       "<AxesSubplot:ylabel='total_sessions_prev'>"
      ]
     },
     "execution_count": 65,
     "metadata": {},
     "output_type": "execute_result"
    },
    {
     "data": {
      "image/png": "[encoded data removed]",
      "text/plain": [
       "<Figure size 432x288 with 1 Axes>"
      ]
     },
     "metadata": {
      "needs_background": "light"
     },
     "output_type": "display_data"
    }
   ],
   "source": [
    "sns.boxplot(data=web,y='total_sessions_prev')"
   ]
  },
  {
   "cell_type": "code",
   "execution_count": 66,
   "metadata": {
    "pycharm": {
     "name": "#%%\n"
    }
   },
   "outputs": [],
   "source": [
    "web=web.loc[web.total_sessions_prev<valor_atipico(web,'total_sessions_prev')]"
   ]
  },
  {
   "cell_type": "code",
   "execution_count": 67,
   "metadata": {
    "pycharm": {
     "name": "#%%\n"
    }
   },
   "outputs": [
    {
     "data": {
      "text/plain": [
       "count    88899.000000\n",
       "mean         2.093184\n",
       "std          0.616412\n",
       "min          1.000000\n",
       "25%          2.000000\n",
       "50%          2.000000\n",
       "75%          2.000000\n",
       "max          3.000000\n",
       "Name: total_sessions_prev, dtype: float64"
      ]
     },
     "execution_count": 67,
     "metadata": {},
     "output_type": "execute_result"
    }
   ],
   "source": [
    "web.total_sessions_prev.describe()"
   ]
  },
  {
   "cell_type": "code",
   "execution_count": 68,
   "metadata": {
    "pycharm": {
     "name": "#%%\n"
    }
   },
   "outputs": [
    {
     "name": "stdout",
     "output_type": "stream",
     "text": [
      "Para el modelo, no se tendrán en cuenta 125261 datos atípicos\n"
     ]
    }
   ],
   "source": [
    "print(f\"Para el modelo, no se tendrán en cuenta {214160-len(web)} datos atípicos\")"
   ]
  },
  {
   "cell_type": "markdown",
   "metadata": {
    "pycharm": {
     "name": "#%% md\n"
    }
   },
   "source": [
    "# Escalado\n"
   ]
  },
  {
   "cell_type": "code",
   "execution_count": 69,
   "metadata": {
    "pycharm": {
     "name": "#%%\n"
    }
   },
   "outputs": [],
   "source": [
    "from functions import data_dist"
   ]
  },
  {
   "cell_type": "markdown",
   "metadata": {
    "pycharm": {
     "name": "#%% md\n"
    }
   },
   "source": [
    "La funcion data_dist crea un grafico de bigotes y uno de distribucíon para er que escalado hay que usar para cada variable.\n",
    "\n",
    "El escalado va a transformar los valores para que todos tengan un mismo valor medio y una misma desviación media para poder compararlas"
   ]
  },
  {
   "cell_type": "markdown",
   "metadata": {
    "pycharm": {
     "name": "#%% md\n"
    }
   },
   "source": [
    "## Total Events"
   ]
  },
  {
   "cell_type": "code",
   "execution_count": 70,
   "metadata": {
    "pycharm": {
     "name": "#%%\n"
    }
   },
   "outputs": [
    {
     "data": {
      "image/png": "[encoded data removed]",
      "text/plain": [
       "<Figure size 720x360 with 2 Axes>"
      ]
     },
     "metadata": {
      "needs_background": "light"
     },
     "output_type": "display_data"
    }
   ],
   "source": [
    "data_dist(web,'total_events')"
   ]
  },
  {
   "cell_type": "markdown",
   "metadata": {
    "pycharm": {
     "name": "#%% md\n"
    }
   },
   "source": [
    "Al ser una distribucion no normal, aplico minmax scaler"
   ]
  },
  {
   "cell_type": "code",
   "execution_count": 71,
   "metadata": {
    "pycharm": {
     "name": "#%%\n"
    }
   },
   "outputs": [],
   "source": [
    "from sklearn.preprocessing import MinMaxScaler\n",
    "minmaxscaler = MinMaxScaler()\n",
    "web['total_events']= minmaxscaler.fit_transform(web[['total_events']])\n"
   ]
  },
  {
   "cell_type": "markdown",
   "metadata": {
    "pycharm": {
     "name": "#%% md\n"
    }
   },
   "source": [
    "  ##  total Vipp Photo selected"
   ]
  },
  {
   "cell_type": "code",
   "execution_count": 72,
   "metadata": {
    "pycharm": {
     "name": "#%%\n"
    }
   },
   "outputs": [
    {
     "data": {
      "image/png": "[encoded data removed]",
      "text/plain": [
       "<Figure size 720x360 with 2 Axes>"
      ]
     },
     "metadata": {
      "needs_background": "light"
     },
     "output_type": "display_data"
    }
   ],
   "source": [
    "data_dist(web,'total_vipphoto_selected')"
   ]
  },
  {
   "cell_type": "markdown",
   "metadata": {
    "pycharm": {
     "name": "#%% md\n"
    }
   },
   "source": [
    "Al ser una distribucion no normal, aplico minmax scaler\n"
   ]
  },
  {
   "cell_type": "code",
   "execution_count": 73,
   "metadata": {
    "pycharm": {
     "name": "#%%\n"
    }
   },
   "outputs": [],
   "source": [
    "from sklearn.preprocessing import MinMaxScaler\n",
    "minmaxscaler = MinMaxScaler()\n",
    "web['total_vipphoto_selected']= minmaxscaler.fit_transform(web[['total_vipphoto_selected']])"
   ]
  },
  {
   "cell_type": "markdown",
   "metadata": {},
   "source": [
    "## total vip360 view selected"
   ]
  },
  {
   "cell_type": "code",
   "execution_count": 74,
   "metadata": {
    "pycharm": {
     "name": "#%%\n"
    }
   },
   "outputs": [
    {
     "data": {
      "image/png": "[encoded data removed]",
      "text/plain": [
       "<Figure size 720x360 with 2 Axes>"
      ]
     },
     "metadata": {
      "needs_background": "light"
     },
     "output_type": "display_data"
    }
   ],
   "source": [
    "data_dist(web,'total_vip360view_selected')"
   ]
  },
  {
   "cell_type": "markdown",
   "metadata": {
    "pycharm": {
     "name": "#%% md\n"
    }
   },
   "source": [
    "al ser una distribución no normal, aplico minmax scaler\n"
   ]
  },
  {
   "cell_type": "code",
   "execution_count": 75,
   "metadata": {
    "pycharm": {
     "name": "#%%\n"
    }
   },
   "outputs": [],
   "source": [
    "from sklearn.preprocessing import MinMaxScaler\n",
    "minmaxscaler = MinMaxScaler()\n",
    "web['total_vip360view_selected']= minmaxscaler.fit_transform(web[['total_vip360view_selected']])\n"
   ]
  },
  {
   "cell_type": "markdown",
   "metadata": {
    "pycharm": {
     "name": "#%% md\n"
    }
   },
   "source": [
    "## total cataloglist viewed"
   ]
  },
  {
   "cell_type": "code",
   "execution_count": 76,
   "metadata": {
    "pycharm": {
     "name": "#%%\n"
    }
   },
   "outputs": [
    {
     "data": {
      "image/png": "[encoded data removed]",
      "text/plain": [
       "<Figure size 720x360 with 2 Axes>"
      ]
     },
     "metadata": {
      "needs_background": "light"
     },
     "output_type": "display_data"
    }
   ],
   "source": [
    "data_dist(web,'total_cataloglist_viewed')"
   ]
  },
  {
   "cell_type": "markdown",
   "metadata": {
    "pycharm": {
     "name": "#%% md\n"
    }
   },
   "source": [
    "al ser una distribución no normal, aplico minmax scaler"
   ]
  },
  {
   "cell_type": "code",
   "execution_count": 77,
   "metadata": {
    "pycharm": {
     "name": "#%%\n"
    }
   },
   "outputs": [],
   "source": [
    "from sklearn.preprocessing import MinMaxScaler\n",
    "minmaxscaler = MinMaxScaler()\n",
    "web['total_cataloglist_viewed']= minmaxscaler.fit_transform(web[['total_cataloglist_viewed']])"
   ]
  },
  {
   "cell_type": "markdown",
   "metadata": {
    "pycharm": {
     "name": "#%% md\n"
    }
   },
   "source": [
    "## total catalogfilter selected"
   ]
  },
  {
   "cell_type": "code",
   "execution_count": 78,
   "metadata": {
    "pycharm": {
     "name": "#%%\n"
    }
   },
   "outputs": [
    {
     "data": {
      "image/png": "[encoded data removed]",
      "text/plain": [
       "<Figure size 720x360 with 2 Axes>"
      ]
     },
     "metadata": {
      "needs_background": "light"
     },
     "output_type": "display_data"
    }
   ],
   "source": [
    "data_dist(web,'total_catalogfilter_selected')"
   ]
  },
  {
   "cell_type": "markdown",
   "metadata": {
    "pycharm": {
     "name": "#%% md\n"
    }
   },
   "source": [
    "al ser una distribución  no normal, aplico min max Scaler"
   ]
  },
  {
   "cell_type": "code",
   "execution_count": 79,
   "metadata": {
    "pycharm": {
     "name": "#%%\n"
    }
   },
   "outputs": [],
   "source": [
    "from sklearn.preprocessing import MinMaxScaler\n",
    "minmaxscaler = MinMaxScaler()\n",
    "web['total_catalogfilter_selected']= minmaxscaler.fit_transform(web[['total_catalogfilter_selected']])"
   ]
  },
  {
   "cell_type": "markdown",
   "metadata": {
    "pycharm": {
     "name": "#%% md\n"
    }
   },
   "source": [
    "## total home viewed"
   ]
  },
  {
   "cell_type": "code",
   "execution_count": 80,
   "metadata": {
    "pycharm": {
     "name": "#%%\n"
    }
   },
   "outputs": [
    {
     "data": {
      "image/png": "[encoded data removed]",
      "text/plain": [
       "<Figure size 720x360 with 2 Axes>"
      ]
     },
     "metadata": {
      "needs_background": "light"
     },
     "output_type": "display_data"
    }
   ],
   "source": [
    "data_dist(web,'total_home_viewed')"
   ]
  },
  {
   "cell_type": "markdown",
   "metadata": {
    "pycharm": {
     "name": "#%% md\n"
    }
   },
   "source": [
    "Al ser una distribución que se aleja de una normal, uso minmax Scaler"
   ]
  },
  {
   "cell_type": "code",
   "execution_count": 81,
   "metadata": {
    "pycharm": {
     "name": "#%%\n"
    }
   },
   "outputs": [],
   "source": [
    "from sklearn.preprocessing import MinMaxScaler\n",
    "minmaxscaler = MinMaxScaler()\n",
    "web['total_home_viewed']= minmaxscaler.fit_transform(web[['total_home_viewed']])"
   ]
  },
  {
   "cell_type": "markdown",
   "metadata": {
    "pycharm": {
     "name": "#%% md\n"
    }
   },
   "source": [
    "## total color selected"
   ]
  },
  {
   "cell_type": "code",
   "execution_count": 82,
   "metadata": {
    "pycharm": {
     "name": "#%%\n"
    }
   },
   "outputs": [
    {
     "data": {
      "image/png": "[encoded data removed]",
      "text/plain": [
       "<Figure size 720x360 with 2 Axes>"
      ]
     },
     "metadata": {
      "needs_background": "light"
     },
     "output_type": "display_data"
    }
   ],
   "source": [
    "data_dist(web,'total_color_selected')"
   ]
  },
  {
   "cell_type": "markdown",
   "metadata": {
    "pycharm": {
     "name": "#%% md\n"
    }
   },
   "source": [
    "Al ser una distribución que se aleja de una normal, uso minmax Scaler"
   ]
  },
  {
   "cell_type": "code",
   "execution_count": 83,
   "metadata": {
    "pycharm": {
     "name": "#%%\n"
    }
   },
   "outputs": [],
   "source": [
    "from sklearn.preprocessing import MinMaxScaler\n",
    "minmaxscaler = MinMaxScaler()\n",
    "web['total_color_selected']= minmaxscaler.fit_transform(web[['total_vipphoto_selected']])"
   ]
  },
  {
   "cell_type": "markdown",
   "metadata": {
    "pycharm": {
     "name": "#%% md\n"
    }
   },
   "source": [
    " ## total location selected"
   ]
  },
  {
   "cell_type": "code",
   "execution_count": 84,
   "metadata": {
    "pycharm": {
     "name": "#%%\n"
    }
   },
   "outputs": [
    {
     "data": {
      "image/png": "[encoded data removed]",
      "text/plain": [
       "<Figure size 720x360 with 2 Axes>"
      ]
     },
     "metadata": {
      "needs_background": "light"
     },
     "output_type": "display_data"
    }
   ],
   "source": [
    "data_dist(web,'total_location_selected')"
   ]
  },
  {
   "cell_type": "markdown",
   "metadata": {
    "pycharm": {
     "name": "#%% md\n"
    }
   },
   "source": [
    "como es una distribución que se aleja de una normal , uso minmax scaler"
   ]
  },
  {
   "cell_type": "code",
   "execution_count": 85,
   "metadata": {
    "pycharm": {
     "name": "#%%\n"
    }
   },
   "outputs": [],
   "source": [
    "from sklearn.preprocessing import MinMaxScaler\n",
    "minmaxscaler = MinMaxScaler()\n",
    "web['total_location_selected']= minmaxscaler.fit_transform(web[['total_location_selected']])"
   ]
  },
  {
   "cell_type": "markdown",
   "metadata": {
    "pycharm": {
     "name": "#%% md\n"
    }
   },
   "source": [
    "## total make selected"
   ]
  },
  {
   "cell_type": "code",
   "execution_count": 86,
   "metadata": {
    "pycharm": {
     "name": "#%%\n"
    }
   },
   "outputs": [
    {
     "data": {
      "image/png": "[encoded data removed]",
      "text/plain": [
       "<Figure size 720x360 with 2 Axes>"
      ]
     },
     "metadata": {
      "needs_background": "light"
     },
     "output_type": "display_data"
    }
   ],
   "source": [
    "data_dist(web,'total_make_selected')"
   ]
  },
  {
   "cell_type": "markdown",
   "metadata": {
    "pycharm": {
     "name": "#%% md\n"
    }
   },
   "source": [
    "como es una distribucion que se aleja de una normal, uso minmax scaler"
   ]
  },
  {
   "cell_type": "code",
   "execution_count": 87,
   "metadata": {
    "pycharm": {
     "name": "#%%\n"
    }
   },
   "outputs": [],
   "source": [
    "from sklearn.preprocessing import MinMaxScaler\n",
    "minmaxscaler = MinMaxScaler()\n",
    "web['total_make_selected']= minmaxscaler.fit_transform(web[['total_make_selected']])"
   ]
  },
  {
   "cell_type": "markdown",
   "metadata": {
    "pycharm": {
     "name": "#%% md\n"
    }
   },
   "source": [
    "## total mileage selected"
   ]
  },
  {
   "cell_type": "code",
   "execution_count": 88,
   "metadata": {
    "pycharm": {
     "name": "#%%\n"
    }
   },
   "outputs": [
    {
     "data": {
      "image/png": "[encoded data removed]",
      "text/plain": [
       "<Figure size 720x360 with 2 Axes>"
      ]
     },
     "metadata": {
      "needs_background": "light"
     },
     "output_type": "display_data"
    }
   ],
   "source": [
    "data_dist(web,'total_mileage_selected')"
   ]
  },
  {
   "cell_type": "markdown",
   "metadata": {
    "pycharm": {
     "name": "#%% md\n"
    }
   },
   "source": [
    "Al ser una distribución que se aleja de una normal, uso minmax scaler"
   ]
  },
  {
   "cell_type": "code",
   "execution_count": 89,
   "metadata": {
    "pycharm": {
     "name": "#%%\n"
    }
   },
   "outputs": [],
   "source": [
    "from sklearn.preprocessing import MinMaxScaler\n",
    "minmaxscaler = MinMaxScaler()\n",
    "web['total_mileage_selected']= minmaxscaler.fit_transform(web[['total_mileage_selected']])"
   ]
  },
  {
   "cell_type": "markdown",
   "metadata": {
    "pycharm": {
     "name": "#%% md\n"
    }
   },
   "source": [
    "## total version selected"
   ]
  },
  {
   "cell_type": "code",
   "execution_count": 90,
   "metadata": {
    "pycharm": {
     "name": "#%%\n"
    }
   },
   "outputs": [
    {
     "data": {
      "image/png": "[encoded data removed]",
      "text/plain": [
       "<Figure size 720x360 with 2 Axes>"
      ]
     },
     "metadata": {
      "needs_background": "light"
     },
     "output_type": "display_data"
    }
   ],
   "source": [
    "data_dist(web,'total_version_selected')"
   ]
  },
  {
   "cell_type": "markdown",
   "metadata": {
    "pycharm": {
     "name": "#%% md\n"
    }
   },
   "source": [
    "Al ser una distribución no normal, uso minmax scaler"
   ]
  },
  {
   "cell_type": "code",
   "execution_count": 91,
   "metadata": {
    "pycharm": {
     "name": "#%%\n"
    }
   },
   "outputs": [],
   "source": [
    "from sklearn.preprocessing import MinMaxScaler\n",
    "minmaxscaler = MinMaxScaler()\n",
    "web['total_version_selected']= minmaxscaler.fit_transform(web[['total_version_selected']])"
   ]
  },
  {
   "cell_type": "markdown",
   "metadata": {
    "pycharm": {
     "name": "#%% md\n"
    }
   },
   "source": [
    "## total vip viewed"
   ]
  },
  {
   "cell_type": "code",
   "execution_count": 92,
   "metadata": {
    "pycharm": {
     "name": "#%%\n"
    }
   },
   "outputs": [
    {
     "data": {
      "image/png": "[encoded data removed]",
      "text/plain": [
       "<Figure size 720x360 with 2 Axes>"
      ]
     },
     "metadata": {
      "needs_background": "light"
     },
     "output_type": "display_data"
    }
   ],
   "source": [
    "data_dist(web,'total_vip_viewed')"
   ]
  },
  {
   "cell_type": "markdown",
   "metadata": {
    "pycharm": {
     "name": "#%% md\n"
    }
   },
   "source": [
    "al ser una distribución que se aleja de una normal, uso minmaxscaler"
   ]
  },
  {
   "cell_type": "code",
   "execution_count": 93,
   "metadata": {
    "pycharm": {
     "name": "#%%\n"
    }
   },
   "outputs": [],
   "source": [
    "from sklearn.preprocessing import MinMaxScaler\n",
    "minmaxscaler = MinMaxScaler()\n",
    "web['total_vip_viewed']= minmaxscaler.fit_transform(web[['total_vip_viewed']])"
   ]
  },
  {
   "cell_type": "markdown",
   "metadata": {
    "pycharm": {
     "name": "#%% md\n"
    }
   },
   "source": [
    "## total year selected"
   ]
  },
  {
   "cell_type": "code",
   "execution_count": null,
   "metadata": {
    "pycharm": {
     "name": "#%%\n"
    }
   },
   "outputs": [],
   "source": [
    "data_dist(web,'total_year_selected')"
   ]
  },
  {
   "cell_type": "markdown",
   "metadata": {
    "pycharm": {
     "name": "#%% md\n"
    }
   },
   "source": [
    "al ser una distribución que se aleja de una normal, uso minmaxscaler"
   ]
  },
  {
   "cell_type": "code",
   "execution_count": null,
   "metadata": {
    "pycharm": {
     "name": "#%%\n"
    }
   },
   "outputs": [],
   "source": [
    "from sklearn.preprocessing import MinMaxScaler\n",
    "minmaxscaler = MinMaxScaler()\n",
    "web['total_year_selected']= minmaxscaler.fit_transform(web[['total_year_selected']])"
   ]
  },
  {
   "cell_type": "markdown",
   "metadata": {
    "pycharm": {
     "name": "#%% md\n"
    }
   },
   "source": [
    "## total model selected"
   ]
  },
  {
   "cell_type": "code",
   "execution_count": null,
   "metadata": {
    "pycharm": {
     "name": "#%%\n"
    }
   },
   "outputs": [],
   "source": [
    "data_dist(web,'total_model_selected')"
   ]
  },
  {
   "cell_type": "markdown",
   "metadata": {
    "pycharm": {
     "name": "#%% md\n"
    }
   },
   "source": [
    "Al ser una distribución no normal,uso minmax scaler"
   ]
  },
  {
   "cell_type": "code",
   "execution_count": null,
   "metadata": {
    "pycharm": {
     "name": "#%%\n"
    }
   },
   "outputs": [],
   "source": [
    "from sklearn.preprocessing import MinMaxScaler\n",
    "minmaxscaler = MinMaxScaler()\n",
    "web['total_model_selected']= minmaxscaler.fit_transform(web[['total_model_selected']])"
   ]
  },
  {
   "cell_type": "markdown",
   "metadata": {
    "pycharm": {
     "name": "#%% md\n"
    }
   },
   "source": [
    "## Seconds on Screen"
   ]
  },
  {
   "cell_type": "code",
   "execution_count": null,
   "metadata": {
    "pycharm": {
     "name": "#%%\n"
    }
   },
   "outputs": [],
   "source": [
    "data_dist(web,'seconds on screen')"
   ]
  },
  {
   "cell_type": "code",
   "execution_count": null,
   "metadata": {
    "pycharm": {
     "name": "#%%\n"
    }
   },
   "outputs": [],
   "source": [
    "from sklearn.preprocessing import MinMaxScaler\n",
    "minmaxscaler = MinMaxScaler()\n",
    "web['seconds on screen']= minmaxscaler.fit_transform(web[['seconds on screen']])"
   ]
  },
  {
   "cell_type": "code",
   "execution_count": null,
   "metadata": {
    "pycharm": {
     "name": "#%%\n"
    }
   },
   "outputs": [],
   "source": [
    "from sklearn.preprocessing import MinMaxScaler\n",
    "minmaxscaler = MinMaxScaler()\n",
    "web['muinutes on screen']= minmaxscaler.fit_transform(web[['muinutes on screen']])"
   ]
  },
  {
   "cell_type": "markdown",
   "metadata": {
    "pycharm": {
     "name": "#%% md\n"
    }
   },
   "source": [
    "## average seconds and minutes on screen"
   ]
  },
  {
   "cell_type": "code",
   "execution_count": null,
   "metadata": {
    "pycharm": {
     "name": "#%%\n"
    }
   },
   "outputs": [],
   "source": [
    "data_dist(web,'avg seconds on screen')"
   ]
  },
  {
   "cell_type": "code",
   "execution_count": null,
   "metadata": {
    "pycharm": {
     "name": "#%%\n"
    }
   },
   "outputs": [],
   "source": [
    "from sklearn.preprocessing import MinMaxScaler\n",
    "minmaxscaler = MinMaxScaler()\n",
    "web['avg seconds on screen']= minmaxscaler.fit_transform(web[['avg minutes on screen']])"
   ]
  },
  {
   "cell_type": "code",
   "execution_count": null,
   "metadata": {
    "pycharm": {
     "name": "#%%\n"
    }
   },
   "outputs": [],
   "source": [
    "from sklearn.preprocessing import MinMaxScaler\n",
    "minmaxscaler = MinMaxScaler()\n",
    "web['avg minutes on screen']= minmaxscaler.fit_transform(web[['avg minutes on screen']])"
   ]
  },
  {
   "cell_type": "markdown",
   "metadata": {
    "pycharm": {
     "name": "#%% md\n"
    }
   },
   "source": [
    "## total sessions prev"
   ]
  },
  {
   "cell_type": "code",
   "execution_count": null,
   "metadata": {
    "pycharm": {
     "name": "#%%\n"
    }
   },
   "outputs": [],
   "source": [
    "data_dist(web,'total_sessions_prev')"
   ]
  },
  {
   "cell_type": "markdown",
   "metadata": {
    "pycharm": {
     "name": "#%% md\n"
    }
   },
   "source": [
    "al ser una distribucíon que se aleja de la normal, uso minmax scaler"
   ]
  },
  {
   "cell_type": "code",
   "execution_count": null,
   "metadata": {
    "pycharm": {
     "name": "#%%\n"
    }
   },
   "outputs": [],
   "source": [
    "from sklearn.preprocessing import MinMaxScaler\n",
    "minmaxscaler = MinMaxScaler()\n",
    "web['total_sessions_prev']= minmaxscaler.fit_transform(web[['total_sessions_prev']])"
   ]
  },
  {
   "cell_type": "code",
   "execution_count": null,
   "metadata": {
    "pycharm": {
     "name": "#%%\n"
    }
   },
   "outputs": [],
   "source": [
    "web.describe()"
   ]
  },
  {
   "cell_type": "markdown",
   "metadata": {
    "pycharm": {
     "name": "#%% md\n"
    }
   },
   "source": [
    "# Encoding"
   ]
  },
  {
   "cell_type": "markdown",
   "metadata": {
    "pycharm": {
     "name": "#%% md\n"
    }
   },
   "source": [
    "Las variables categoticas  necesitan un encoding para que el modelo las pueda interpretar.Cada valor de la variable categotica sera una columna nueva y  en la fila sera 1 si coincide  y 0 en caso contrario"
   ]
  },
  {
   "cell_type": "markdown",
   "metadata": {
    "pycharm": {
     "name": "#%% md\n"
    }
   },
   "source": [
    "## region"
   ]
  },
  {
   "cell_type": "markdown",
   "metadata": {
    "pycharm": {
     "name": "#%% md\n"
    }
   },
   "source": [
    "Para región se hará un onehot encoder   conservando el region_ antes delvalor para recordar que previene de la columna region"
   ]
  },
  {
   "cell_type": "code",
   "execution_count": null,
   "metadata": {
    "pycharm": {
     "name": "#%%\n"
    }
   },
   "outputs": [],
   "source": [
    "from sklearn.preprocessing import OneHotEncoder\n",
    "\n",
    "ohe = OneHotEncoder(sparse=False)\n",
    "ohe.fit(web[['region']])\n",
    "display(ohe.categories_)\n",
    "display(ohe.get_feature_names_out())\n",
    "region_encoded = ohe.transform(web[['region']])\n",
    "\n",
    "web[ohe.get_feature_names_out()] = region_encoded\n",
    "\n",
    "\n",
    "web.drop(columns='region', inplace = True)\n",
    "web"
   ]
  },
  {
   "cell_type": "markdown",
   "metadata": {
    "pycharm": {
     "name": "#%% md\n"
    }
   },
   "source": [
    "## Device Model"
   ]
  },
  {
   "cell_type": "markdown",
   "metadata": {
    "pycharm": {
     "name": "#%% md\n"
    }
   },
   "source": [
    "con deviece model sucede lo mismo que con región"
   ]
  },
  {
   "cell_type": "code",
   "execution_count": null,
   "metadata": {
    "pycharm": {
     "name": "#%%\n"
    }
   },
   "outputs": [],
   "source": [
    "from sklearn.preprocessing import OneHotEncoder\n",
    "\n",
    "ohe = OneHotEncoder(sparse=False)\n",
    "ohe.fit(web[['device_model']])\n",
    "display(ohe.categories_)\n",
    "display(ohe.get_feature_names_out())\n",
    "device_encoded = ohe.transform(web[['device_model']])\n",
    "\n",
    "web[ohe.get_feature_names_out()] = device_encoded\n",
    "\n",
    "\n",
    "web.drop(columns='device_model', inplace = True)\n",
    "web"
   ]
  },
  {
   "cell_type": "markdown",
   "metadata": {
    "pycharm": {
     "name": "#%% md\n"
    }
   },
   "source": [
    "# Modelo"
   ]
  },
  {
   "cell_type": "markdown",
   "metadata": {
    "pycharm": {
     "name": "#%% md\n"
    }
   },
   "source": [
    "El  modelo  va ser una regresión logística (clasificación) porque  se  va a buscar predecir  de una variable categórica"
   ]
  },
  {
   "cell_type": "code",
   "execution_count": null,
   "metadata": {
    "pycharm": {
     "name": "#%%\n"
    }
   },
   "outputs": [],
   "source": [
    "web.reserved.value_counts()/len(web)*100"
   ]
  },
  {
   "cell_type": "markdown",
   "metadata": {
    "pycharm": {
     "name": "#%% md\n"
    }
   },
   "source": [
    "La hipotesis nula es que el 95,4% no reservarn\n",
    "El modelo tiene que spuerar este valor para pooder considerarse un buen modelo.\n",
    "Si ,por ejemplo, el accuracy es de 90%, por mas que sea un valor alto, un modelo que diga que todas no reservó va a tener un accuracy mas alto que este modelo."
   ]
  },
  {
   "cell_type": "markdown",
   "metadata": {},
   "source": [
    "## División de variables"
   ]
  },
  {
   "cell_type": "code",
   "execution_count": null,
   "metadata": {
    "pycharm": {
     "name": "#%%\n"
    }
   },
   "outputs": [],
   "source": [
    "X = web.drop(columns=['user_id','device_id','reserved','session_date','city'])\n",
    "y = web['reserved']"
   ]
  },
  {
   "cell_type": "markdown",
   "metadata": {
    "pycharm": {
     "name": "#%% md\n"
    }
   },
   "source": [
    "La variable dependiente  es **reserved**\n",
    "Las variables independientes son el resto del dataset  excluyendo:\n",
    "    -**User_id**\n",
    "    -**device_id**\n",
    "    -**session_date**\n",
    "    -**City**"
   ]
  },
  {
   "cell_type": "markdown",
   "metadata": {
    "pycharm": {
     "name": "#%% md\n"
    }
   },
   "source": [
    "## Train test"
   ]
  },
  {
   "cell_type": "markdown",
   "metadata": {
    "pycharm": {
     "name": "#%% md\n"
    }
   },
   "source": [
    "El train test split va a dividir los datos en dos grupos, uno para que el modelo entrene, y otro para probar su rendiemiento. Como no hay información nueva, se corta parte del dataset (un 30 %) para probar las predicciones del modelo.\n",
    "La división es random."
   ]
  },
  {
   "cell_type": "code",
   "execution_count": null,
   "metadata": {
    "pycharm": {
     "name": "#%%\n"
    }
   },
   "outputs": [],
   "source": [
    "from sklearn.model_selection import train_test_split\n",
    "X_train, X_test, y_train, y_test = train_test_split(X, y, test_size=0.3, random_state=10,stratify = y)"
   ]
  },
  {
   "cell_type": "markdown",
   "metadata": {
    "pycharm": {
     "name": "#%% md\n"
    }
   },
   "source": [
    "## Regresión Logistica"
   ]
  },
  {
   "cell_type": "code",
   "execution_count": null,
   "metadata": {
    "pycharm": {
     "name": "#%%\n"
    }
   },
   "outputs": [],
   "source": [
    "from sklearn.linear_model import LogisticRegression\n",
    "from sklearn.model_selection import cross_val_score\n",
    "\n",
    "model = LogisticRegression()\n",
    "model.fit(X_train, y_train)\n",
    "y_pred = model.predict(X_test)\n",
    "scores = cross_val_score(model, X, y, cv=10)\n",
    "accuracy= scores.mean()\n",
    "\n",
    "print(f\"El accuracy de este modelo es de {accuracy}\")"
   ]
  },
  {
   "cell_type": "markdown",
   "metadata": {
    "pycharm": {
     "name": "#%% md\n"
    }
   },
   "source": [
    "El accuracy del modelo es igual a la hipotesis nula. Podríamos ver si el modelo predice que todas son 0 como lo es la hipotesis nula"
   ]
  },
  {
   "cell_type": "markdown",
   "metadata": {},
   "source": [
    "## Matriz de confusión"
   ]
  },
  {
   "cell_type": "code",
   "execution_count": null,
   "metadata": {
    "pycharm": {
     "name": "#%%\n"
    }
   },
   "outputs": [],
   "source": [
    "from sklearn import metrics\n",
    "\n",
    "score = model.score(X_test, y_test)\n",
    "cm = metrics.confusion_matrix(y_test, y_pred)\n",
    "\n",
    "all_sample_title = 'Accuracy Score: {0}'.format(score.round(2))\n",
    "plt.title(all_sample_title, size=15)\n",
    "df_cm = pd.DataFrame( data= cm ,index = ['Real Negative: 0', 'Real Positive: 1'],\n",
    "                  columns = ['Predict Negative: 0', 'Predict Positive: 1'])\n",
    "matrix=sns.heatmap(df_cm, annot=True, fmt=\".3f\", linewidths=.5, square=True, cmap='PiYG')\n",
    "plt.figure(figsize=(9, 9))\n",
    "plt.show()"
   ]
  },
  {
   "cell_type": "markdown",
   "metadata": {
    "pycharm": {
     "name": "#%% md\n"
    }
   },
   "source": [
    "como se ve en la matriz, el modelo nunca predijo 1. El True positives , es decir los que el modelo predice como 1 y son 1 es 0 y el false positive, los que el modeko predice como 1 y son 0 es 0.\n",
    "Es decir, este es un modelo que a todo lo predice como 0.\n",
    "Por lo tanto, el recall y el precision deberian ser 0"
   ]
  },
  {
   "cell_type": "code",
   "execution_count": null,
   "metadata": {
    "pycharm": {
     "name": "#%%\n"
    }
   },
   "outputs": [],
   "source": [
    "from sklearn.metrics import accuracy_score, recall_score, precision_score, confusion_matrix\n",
    "\n",
    "print(f'Recall : {recall_score(y_test, y_pred)}')\n",
    "print(f'Precision: {precision_score(y_test, y_pred)}')"
   ]
  },
  {
   "cell_type": "markdown",
   "metadata": {
    "pycharm": {
     "name": "#%% md\n"
    }
   },
   "source": [
    "Si pruebo predecir con un set de datos nuevos, me va a devolver 0."
   ]
  },
  {
   "cell_type": "markdown",
   "metadata": {
    "pycharm": {
     "name": "#%% md\n"
    }
   },
   "source": [
    "Voy a ver cuanto cambia el accuracy si saco las columnas de events pero dejo la de total events"
   ]
  },
  {
   "cell_type": "code",
   "execution_count": null,
   "metadata": {
    "pycharm": {
     "name": "#%%\n"
    }
   },
   "outputs": [],
   "source": [
    "from sklearn.linear_model import LogisticRegression\n",
    "from sklearn.model_selection import cross_val_score\n",
    "X = web.drop(columns=['user_id','device_id','reserved','session_date','city','total_cataloglist_viewed','total_catalogfilter_selected','total_home_viewed','total_vip360view_selected','total_color_selected','total_location_selected','total_make_selected','total_mileage_selected','total_version_selected','total_vip_viewed','total_vipphoto_selected','total_year_selected','total_model_selected','avg seconds on screen','avg minutes on screen'])\n",
    "y = web['reserved']\n",
    "model = LogisticRegression()\n",
    "model.fit(X_train, y_train)\n",
    "y_pred = model.predict(X_test)\n",
    "scores = cross_val_score(model, X, y, cv=10)\n",
    "accuracy= scores.mean()\n",
    "print(f\"el nuevo accuracy es {accuracy}\")"
   ]
  },
  {
   "cell_type": "markdown",
   "metadata": {
    "pycharm": {
     "name": "#%% md\n"
    }
   },
   "source": [
    "El accuracy aumento muy poco pero puede ser una indicación de que la selección de variables es importante"
   ]
  },
  {
   "cell_type": "markdown",
   "metadata": {},
   "source": [
    "# Conclusión"
   ]
  },
  {
   "cell_type": "code",
   "execution_count": null,
   "metadata": {
    "pycharm": {
     "name": "#%%\n"
    }
   },
   "outputs": [],
   "source": [
    "def correlation_heatmap(df):\n",
    "    _ , ax = plt.subplots(figsize =(14, 12))\n",
    "    colormap = sns.diverging_palette(220, 10, as_cmap = True)\n",
    "\n",
    "    _ = sns.heatmap(\n",
    "        df.corr(),\n",
    "        cmap = colormap,\n",
    "        square=True,\n",
    "        cbar_kws={'shrink':.9 },\n",
    "        ax=ax,\n",
    "        annot=True,\n",
    "        linewidths=0.1,vmax=1.0, linecolor='white',\n",
    "        annot_kws={'fontsize':12 }\n",
    "    )\n",
    "\n",
    "    plt.title(' KAVAK', y=1.05, size=15)\n",
    "\n",
    "correlation_heatmap(web)"
   ]
  },
  {
   "cell_type": "markdown",
   "metadata": {},
   "source": [
    "El modelo no predice si un usuario va a reservar un auto. Este modelo, no  funcióna ya que predice que todos los negativos\n",
    "\n",
    "El mapa de correlació muestra que no hay variables con relación fuerte a la variable dependiente lo cual puede ser una razon por la que el modelo no funciona. Tambien , al tener solo un 4,5% de registros que corresponden a usuarios que reservan , puede ser que el modelo no tenga sufieciente información para aprender sobre las caracteristicas de un usuario que reserva"
   ]
  }
 ],
 "metadata": {
  "kernelspec": {
   "display_name": "Python 3 (ipykernel)",
   "language": "python",
   "name": "python3"
  },
  "language_info": {
   "codemirror_mode": {
    "name": "ipython",
    "version": 3
   },
   "file_extension": ".py",
   "mimetype": "text/x-python",
   "name": "python",
   "nbconvert_exporter": "python",
   "pygments_lexer": "ipython3",
   "version": "3.10.4"
  }
 },
 "nbformat": 4,
 "nbformat_minor": 1
}