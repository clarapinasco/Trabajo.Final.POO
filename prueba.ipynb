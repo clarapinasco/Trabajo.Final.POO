{
 "cells": [
  {
   "cell_type": "code",
   "execution_count": 2,
   "outputs": [],
   "source": [
    "import pandas as pd"
   ],
   "metadata": {
    "collapsed": false,
    "pycharm": {
     "name": "#%%\n"
    }
   }
  },
  {
   "cell_type": "code",
   "execution_count": 3,
   "outputs": [],
   "source": [
    "web=pd.read_parquet('navegacion_web.pq', engine='pyarrow')"
   ],
   "metadata": {
    "collapsed": false,
    "pycharm": {
     "name": "#%%\n"
    }
   }
  },
  {
   "cell_type": "code",
   "execution_count": 4,
   "outputs": [
    {
     "data": {
      "text/plain": "0.0          13146\n1.0           3205\n2.0           1456\n3.0           1195\n4.0            527\n             ...  \n733464.0         1\n4570143.0        1\n24850.0          1\n38718.0          1\n5379364.0        1\nName: time_on_screen_prev, Length: 29446, dtype: int64"
     },
     "execution_count": 4,
     "metadata": {},
     "output_type": "execute_result"
    }
   ],
   "source": [
    "web.time_on_screen_prev.value_counts()"
   ],
   "metadata": {
    "collapsed": false,
    "pycharm": {
     "name": "#%%\n"
    }
   }
  },
  {
   "cell_type": "code",
   "execution_count": 10,
   "outputs": [
    {
     "data": {
      "text/plain": "Index(['user_id', 'device_id', 'session_id', 'device_model',\n       'min_session_time', 'total_previous_sessions', 'total_previous_events',\n       'date_short', 'total_previous_vipphoto_selected',\n       'total_previous_vip360view_selected',\n       'total_previous_catalogfilter_selected', 'total_previous_vip_viewed',\n       'total_previous_cataloglist_viewed', 'total_previous_home_viewed',\n       'total_previous_year_selected', 'total_previous_make_selected',\n       'total_previous_model_selected', 'total_previous_version_selected',\n       'total_previous_mileage_selected', 'total_previous_location_selected',\n       'total_previous_color_selected', 'city', 'region',\n       'time_on_screen_prev', 'min_total_sessions_prev',\n       'all_total_sessions_prev', 'total_sessions_prev', 'stock_id', 'date',\n       'user_with_reserve', 'reserved', 'avg_time_previous_sessions'],\n      dtype='object')"
     },
     "execution_count": 10,
     "metadata": {},
     "output_type": "execute_result"
    }
   ],
   "source": [
    "web.columns"
   ],
   "metadata": {
    "collapsed": false,
    "pycharm": {
     "name": "#%%\n"
    }
   }
  }
 ],
 "metadata": {
  "kernelspec": {
   "display_name": "Python 3",
   "language": "python",
   "name": "python3"
  },
  "language_info": {
   "codemirror_mode": {
    "name": "ipython",
    "version": 2
   },
   "file_extension": ".py",
   "mimetype": "text/x-python",
   "name": "python",
   "nbconvert_exporter": "python",
   "pygments_lexer": "ipython2",
   "version": "2.7.6"
  }
 },
 "nbformat": 4,
 "nbformat_minor": 0
}